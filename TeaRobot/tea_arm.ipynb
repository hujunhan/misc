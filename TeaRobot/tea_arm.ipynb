{
 "cells": [
  {
   "cell_type": "code",
   "execution_count": 15,
   "metadata": {},
   "outputs": [],
   "source": [
    "import sympy\n",
    "import numpy as np\n",
    "def Transform(theta, d, a, alpha):\n",
    "    ct = sympy.cos(theta)\n",
    "    st = sympy.sin(theta)\n",
    "    ca = sympy.cos(alpha)\n",
    "    sa = sympy.sin(alpha)\n",
    "    # return sympy.Matrix(\n",
    "    #     [\n",
    "    #         [ct, -st, 0, a],\n",
    "    #         [st * ca, ct * ca, -sa, -sa * d],\n",
    "    #         [st * sa, ct * sa, ca, ca * d],\n",
    "    #         [0, 0, 0, 1],\n",
    "    #     ]\n",
    "    # )\n",
    "    return sympy.Matrix(\n",
    "        [\n",
    "            [ct, -st*ca, st*sa, a*ct],\n",
    "            [st, ct * ca, -ct*sa, a*st],\n",
    "            [0, sa, ca, d],\n",
    "            [0, 0, 0, 1],\n",
    "        ]\n",
    "    )\n",
    "\n",
    "x,y,z,theta1,theta2,d1,d2,d3,d4,d5,d6=sympy.symbols('x,y,z,theta1,theta2,d1,d2,d3,d4,d5,d6')\n",
    "pi=sympy.pi\n",
    "T_tran_x=Transform(0,0,0,-pi/2)\n",
    "T_x=Transform(0,x,0,0)\n",
    "T_tran_y=Transform(pi/2,0,0,pi/2)\n",
    "T_y=Transform(0,y,0,0)\n",
    "T_tran_z=Transform(pi/2,0,0,pi/2)\n",
    "T_z=Transform(0,z,0,0)\n",
    "T_tran_ms=Transform(pi/2,d2,d4,0)\n",
    "T_ms=Transform(theta1,0,0,0)\n",
    "T_tran_ss=Transform(-pi/2,d5,0,-pi/2)\n",
    "T_ss=Transform(theta2,0,0,0)\n",
    "T_tran_end=Transform(0,0,0,pi/2)\n",
    "T_end=Transform(0,d6,0,0)"
   ]
  },
  {
   "cell_type": "code",
   "execution_count": 17,
   "metadata": {},
   "outputs": [],
   "source": [
    "T=T_tran_x*T_x*T_tran_y*T_y*T_tran_z*T_z*T_tran_ms*T_ms*T_tran_ss*T_ss*T_tran_end*T_end"
   ]
  },
  {
   "cell_type": "code",
   "execution_count": 18,
   "metadata": {},
   "outputs": [
    {
     "data": {
      "text/latex": [
       "$\\displaystyle \\left[\\begin{matrix}\\sin{\\left(\\theta_{1} \\right)} \\cos{\\left(\\theta_{2} \\right)} & \\cos{\\left(\\theta_{1} \\right)} & \\sin{\\left(\\theta_{1} \\right)} \\sin{\\left(\\theta_{2} \\right)} & d_{4} + d_{6} \\sin{\\left(\\theta_{1} \\right)} \\sin{\\left(\\theta_{2} \\right)} + y\\\\\\cos{\\left(\\theta_{1} \\right)} \\cos{\\left(\\theta_{2} \\right)} & - \\sin{\\left(\\theta_{1} \\right)} & \\sin{\\left(\\theta_{2} \\right)} \\cos{\\left(\\theta_{1} \\right)} & d_{6} \\sin{\\left(\\theta_{2} \\right)} \\cos{\\left(\\theta_{1} \\right)} + x\\\\\\sin{\\left(\\theta_{2} \\right)} & 0 & - \\cos{\\left(\\theta_{2} \\right)} & - d_{2} - d_{5} - d_{6} \\cos{\\left(\\theta_{2} \\right)} - z\\\\0 & 0 & 0 & 1\\end{matrix}\\right]$"
      ],
      "text/plain": [
       "Matrix([\n",
       "[sin(theta1)*cos(theta2),  cos(theta1), sin(theta1)*sin(theta2), d4 + d6*sin(theta1)*sin(theta2) + y],\n",
       "[cos(theta1)*cos(theta2), -sin(theta1), sin(theta2)*cos(theta1),      d6*sin(theta2)*cos(theta1) + x],\n",
       "[            sin(theta2),            0,            -cos(theta2),       -d2 - d5 - d6*cos(theta2) - z],\n",
       "[                      0,            0,                       0,                                   1]])"
      ]
     },
     "execution_count": 18,
     "metadata": {},
     "output_type": "execute_result"
    }
   ],
   "source": [
    "T"
   ]
  },
  {
   "cell_type": "code",
   "execution_count": 16,
   "metadata": {},
   "outputs": [
    {
     "data": {
      "text/latex": [
       "$\\displaystyle \\left[\\begin{matrix}0 & 0 & 1 & 0\\\\0 & 1 & 0 & x\\\\-1 & 0 & 0 & 0\\\\0 & 0 & 0 & 1\\end{matrix}\\right]$"
      ],
      "text/plain": [
       "Matrix([\n",
       "[ 0, 0, 1, 0],\n",
       "[ 0, 1, 0, x],\n",
       "[-1, 0, 0, 0],\n",
       "[ 0, 0, 0, 1]])"
      ]
     },
     "execution_count": 16,
     "metadata": {},
     "output_type": "execute_result"
    }
   ],
   "source": [
    "TT=T_tran_x*T_x*T_tran_y\n",
    "TT"
   ]
  }
 ],
 "metadata": {
  "interpreter": {
   "hash": "c6e4e9f98eb68ad3b7c296f83d20e6de614cb42e90992a65aa266555a3137d0d"
  },
  "kernelspec": {
   "display_name": "Python 3.9.5 64-bit ('base': conda)",
   "language": "python",
   "name": "python3"
  },
  "language_info": {
   "codemirror_mode": {
    "name": "ipython",
    "version": 3
   },
   "file_extension": ".py",
   "mimetype": "text/x-python",
   "name": "python",
   "nbconvert_exporter": "python",
   "pygments_lexer": "ipython3",
   "version": "3.9.5"
  },
  "orig_nbformat": 4
 },
 "nbformat": 4,
 "nbformat_minor": 2
}
