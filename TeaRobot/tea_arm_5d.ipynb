{
 "cells": [
  {
   "cell_type": "code",
   "execution_count": 1,
   "metadata": {},
   "outputs": [
    {
     "data": {
      "text/latex": [
       "$\\displaystyle \\left[\\begin{matrix}\\cos{\\left(\\beta \\right)} \\cos{\\left(\\gamma \\right)} & \\sin{\\left(\\alpha \\right)} \\sin{\\left(\\beta \\right)} \\cos{\\left(\\gamma \\right)} - \\sin{\\left(\\gamma \\right)} \\cos{\\left(\\alpha \\right)} & \\sin{\\left(\\alpha \\right)} \\sin{\\left(\\gamma \\right)} + \\sin{\\left(\\beta \\right)} \\cos{\\left(\\alpha \\right)} \\cos{\\left(\\gamma \\right)} & x\\\\\\sin{\\left(\\gamma \\right)} \\cos{\\left(\\beta \\right)} & \\sin{\\left(\\alpha \\right)} \\sin{\\left(\\beta \\right)} \\sin{\\left(\\gamma \\right)} + \\cos{\\left(\\alpha \\right)} \\cos{\\left(\\gamma \\right)} & - \\sin{\\left(\\alpha \\right)} \\cos{\\left(\\gamma \\right)} + \\sin{\\left(\\beta \\right)} \\sin{\\left(\\gamma \\right)} \\cos{\\left(\\alpha \\right)} & y\\\\- \\sin{\\left(\\beta \\right)} & \\sin{\\left(\\alpha \\right)} \\cos{\\left(\\beta \\right)} & \\cos{\\left(\\alpha \\right)} \\cos{\\left(\\beta \\right)} & z\\\\0 & 0 & 0 & 1\\end{matrix}\\right]$"
      ],
      "text/plain": [
       "Matrix([\n",
       "[cos(beta)*cos(gamma), sin(alpha)*sin(beta)*cos(gamma) - sin(gamma)*cos(alpha),  sin(alpha)*sin(gamma) + sin(beta)*cos(alpha)*cos(gamma), x],\n",
       "[sin(gamma)*cos(beta), sin(alpha)*sin(beta)*sin(gamma) + cos(alpha)*cos(gamma), -sin(alpha)*cos(gamma) + sin(beta)*sin(gamma)*cos(alpha), y],\n",
       "[          -sin(beta),                                    sin(alpha)*cos(beta),                                     cos(alpha)*cos(beta), z],\n",
       "[                   0,                                                       0,                                                        0, 1]])"
      ]
     },
     "execution_count": 1,
     "metadata": {},
     "output_type": "execute_result"
    }
   ],
   "source": [
    "import sympy\n",
    "import numpy as np\n",
    "\n",
    "## Transform function using RPY follow the definition in xarco\n",
    "def transform(x, y, z, alpha, beta, gamma):\n",
    "    ca = sympy.cos(alpha)\n",
    "    sa = sympy.sin(alpha)\n",
    "    cb = sympy.cos(beta)\n",
    "    sb = sympy.sin(beta)\n",
    "    cg = sympy.cos(gamma)\n",
    "    sg = sympy.sin(gamma)\n",
    "    trans = sympy.Matrix([[1, 0, 0, x], [0, 1, 0, y], [0, 0, 1, z], [0, 0, 0, 1]])\n",
    "    rotat_x = sympy.Matrix(\n",
    "        [\n",
    "            [1, 0, 0, 0],\n",
    "            [0, ca, -sa, 0],\n",
    "            [0, sa, ca, 0],\n",
    "            [0, 0, 0, 1],\n",
    "        ]\n",
    "    )\n",
    "    rotat_y = sympy.Matrix(\n",
    "        [\n",
    "            [cb, 0, sb, 0],\n",
    "            [0, 1, 0, 0],\n",
    "            [-sb, 0, cb, 0],\n",
    "            [0, 0, 0, 1],\n",
    "        ]\n",
    "    )\n",
    "    rotat_z = sympy.Matrix(\n",
    "        [\n",
    "            [cg, -sg, 0, 0],\n",
    "            [sg, cg, 0, 0],\n",
    "            [0, 0, 1, 0],\n",
    "            [0, 0, 0, 1],\n",
    "        ]\n",
    "    )\n",
    "    return trans * rotat_z * rotat_y * rotat_x\n",
    "\n",
    "\n",
    "x, y, z, alpha, beta, gamma = sympy.symbols(\"x,y,z,alpha,beta,gamma\")\n",
    "transform(x, y, z, alpha, beta, gamma)"
   ]
  },
  {
   "cell_type": "code",
   "execution_count": 90,
   "metadata": {},
   "outputs": [
    {
     "data": {
      "text/latex": [
       "$\\displaystyle \\left[\\begin{matrix}1 & 0 & 0 & 2\\\\0 & 0 & -1 & 0\\\\0 & 1 & 0 & 2\\\\0 & 0 & 0 & 1\\end{matrix}\\right]$"
      ],
      "text/plain": [
       "Matrix([\n",
       "[1, 0,  0, 2],\n",
       "[0, 0, -1, 0],\n",
       "[0, 1,  0, 2],\n",
       "[0, 0,  0, 1]])"
      ]
     },
     "execution_count": 90,
     "metadata": {},
     "output_type": "execute_result"
    }
   ],
   "source": [
    "## Just test\n",
    "a = transform(0, 0, 0, 0, 0, 0)\n",
    "T = transform(1, 1, 1, sympy.pi / 2, 0, sympy.pi / 2)\n",
    "T2 = transform(1, 1, 1, 0, 0, 0)\n",
    "a * T * T2"
   ]
  },
  {
   "cell_type": "code",
   "execution_count": 5,
   "metadata": {},
   "outputs": [
    {
     "data": {
      "text/latex": [
       "$\\displaystyle \\left[\\begin{matrix}\\cos{\\left(\\theta_{1} \\right)} & \\sin{\\left(\\theta_{1} \\right)} \\sin{\\left(\\theta_{2} \\right)} & \\sin{\\left(\\theta_{1} \\right)} \\cos{\\left(\\theta_{2} \\right)} & x + 0.014063 \\sin{\\left(\\theta_{1} \\right)} - 0.012265 \\cos{\\left(\\theta_{1} \\right)} + 0.251689\\\\0 & \\cos{\\left(\\theta_{2} \\right)} & - \\sin{\\left(\\theta_{2} \\right)} & 0.656301 - z\\\\- \\sin{\\left(\\theta_{1} \\right)} & \\sin{\\left(\\theta_{2} \\right)} \\cos{\\left(\\theta_{1} \\right)} & \\cos{\\left(\\theta_{1} \\right)} \\cos{\\left(\\theta_{2} \\right)} & y + 0.012265 \\sin{\\left(\\theta_{1} \\right)} + 0.014063 \\cos{\\left(\\theta_{1} \\right)} - 0.006679\\\\0 & 0 & 0 & 1\\end{matrix}\\right]$"
      ],
      "text/plain": [
       "Matrix([\n",
       "[ cos(theta1), sin(theta1)*sin(theta2), sin(theta1)*cos(theta2), x + 0.014063*sin(theta1) - 0.012265*cos(theta1) + 0.251689],\n",
       "[           0,             cos(theta2),            -sin(theta2),                                               0.656301 - z],\n",
       "[-sin(theta1), sin(theta2)*cos(theta1), cos(theta1)*cos(theta2), y + 0.012265*sin(theta1) + 0.014063*cos(theta1) - 0.006679],\n",
       "[           0,                       0,                       0,                                                          1]])"
      ]
     },
     "execution_count": 5,
     "metadata": {},
     "output_type": "execute_result"
    }
   ],
   "source": [
    "## 5 degree arm simulation (forward kinematics)\n",
    "pi = sympy.pi\n",
    "base = transform(0.066972, -0.052, -0.071717, pi, pi / 2, 0)\n",
    "x, y, z, theta1, theta2, d1, d2, d3, d4, d5, d6 = sympy.symbols(\n",
    "    \"x,y,z,theta1,theta2,d1,d2,d3,d4,d5,d6\"\n",
    ")\n",
    "x_joint = transform(0.066972, -0.052, -0.071717, pi, pi / 2, 0)\n",
    "x_move = transform(x, 0, 0, 0, 0, 0)\n",
    "y_joint = transform(0.0755, 0, 0.18051, pi / 2, pi / 2, 0)\n",
    "y_move = transform(-y, 0, 0, 0, 0, 0)\n",
    "z_joint = transform(0.0755, 0.0375, -0.15871, pi / 2, 0, pi / 2)\n",
    "z_move = transform(0, z, 0, 0, 0, 0)\n",
    "a_joint = transform(0, -0.418, -0.027, -pi / 2, 0, pi)\n",
    "a_move = transform(0, 0, 0, 0, 0, theta1)\n",
    "b_joint = transform(0.012265, 0.014063, 0.079591, pi / 2, 0, pi)\n",
    "b_move = transform(0, 0, 0, theta2, 0, 0)\n",
    "# base*x_move*x_joint*y_move*y_joint*z_move*z_joint*a_move*a_joint*b_move*b_joint\n",
    "final = (\n",
    "    base\n",
    "    * x_joint\n",
    "    * x_move\n",
    "    * y_joint\n",
    "    * y_move\n",
    "    * z_joint\n",
    "    * z_move\n",
    "    * a_joint\n",
    "    * a_move\n",
    "    * b_joint\n",
    "    * b_move\n",
    ")\n",
    "final"
   ]
  },
  {
   "cell_type": "code",
   "execution_count": null,
   "metadata": {},
   "outputs": [],
   "source": []
  },
  {
   "cell_type": "code",
   "execution_count": 5,
   "metadata": {},
   "outputs": [
    {
     "data": {
      "text/plain": [
       "array([[0.33040562, 0.49864028, 0.34913284, 0.92811119],\n",
       "       [0.42786461, 0.89957313, 0.65522645, 0.32034205],\n",
       "       [0.41937709, 0.063464  , 0.03319831, 0.5664387 ],\n",
       "       [0.68034663, 0.99974698, 0.66727572, 0.73957156]])"
      ]
     },
     "execution_count": 5,
     "metadata": {},
     "output_type": "execute_result"
    }
   ],
   "source": [
    "Final = np.random.random((4, 4))\n",
    "theta1 = np.arcsin(Final[0, 0])\n",
    "theta2 = np.arcsin(Final[2, 2])\n",
    "x = Final[1, 3] - 0.132717 - 0.14063 * np.sin(theta1) + 0.012265 * np.cos(theta1)\n",
    "y = Final[0, 3] + 0.001934 + 0.014063 * np.cos(theta1) - 0.012265 * np.sin(theta1)\n",
    "z = Final[2, 3] - 1.191699"
   ]
  },
  {
   "cell_type": "code",
   "execution_count": 7,
   "metadata": {},
   "outputs": [
    {
     "data": {
      "text/latex": [
       "$\\displaystyle \\left[\\begin{matrix}0.894591530304377 \\sin{\\left(\\theta_{1} \\right)} + 0.446884765803974 \\cos{\\left(\\theta_{1} \\right)} & \\left(0.068682650524968 \\sin{\\left(\\theta_{1} \\right)} - 0.137491635741827 \\cos{\\left(\\theta_{1} \\right)}\\right) \\cos{\\left(\\theta_{2} \\right)} + \\left(0.441575234161222 \\sin{\\left(\\theta_{1} \\right)} - 0.883962700679935 \\cos{\\left(\\theta_{1} \\right)}\\right) \\sin{\\left(\\theta_{2} \\right)} & - \\left(0.068682650524968 \\sin{\\left(\\theta_{1} \\right)} - 0.137491635741827 \\cos{\\left(\\theta_{1} \\right)}\\right) \\sin{\\left(\\theta_{2} \\right)} + \\left(0.441575234161222 \\sin{\\left(\\theta_{1} \\right)} - 0.883962700679935 \\cos{\\left(\\theta_{1} \\right)}\\right) \\cos{\\left(\\theta_{2} \\right)} & - y - 0.00915647231572164 \\sin{\\left(\\theta_{1} \\right)} - 0.00911576704021242 \\cos{\\left(\\theta_{1} \\right)} + 0.001934\\\\- 0.446884765803974 \\sin{\\left(\\theta_{1} \\right)} + 0.894591530304377 \\cos{\\left(\\theta_{1} \\right)} & \\left(0.137491635741827 \\sin{\\left(\\theta_{1} \\right)} + 0.068682650524968 \\cos{\\left(\\theta_{1} \\right)}\\right) \\cos{\\left(\\theta_{2} \\right)} + \\left(0.883962700679935 \\sin{\\left(\\theta_{1} \\right)} + 0.441575234161222 \\cos{\\left(\\theta_{1} \\right)}\\right) \\sin{\\left(\\theta_{2} \\right)} & - \\left(0.137491635741827 \\sin{\\left(\\theta_{1} \\right)} + 0.068682650524968 \\cos{\\left(\\theta_{1} \\right)}\\right) \\sin{\\left(\\theta_{2} \\right)} + \\left(0.883962700679935 \\sin{\\left(\\theta_{1} \\right)} + 0.441575234161222 \\cos{\\left(\\theta_{1} \\right)}\\right) \\cos{\\left(\\theta_{2} \\right)} & x + 0.00911576704021242 \\sin{\\left(\\theta_{1} \\right)} - 0.00915647231572164 \\cos{\\left(\\theta_{1} \\right)} + 0.132717\\\\0 & 0.15369208301698 \\sin{\\left(\\theta_{2} \\right)} - 0.988118790236226 \\cos{\\left(\\theta_{2} \\right)} & 0.988118790236226 \\sin{\\left(\\theta_{2} \\right)} + 0.15369208301698 \\cos{\\left(\\theta_{2} \\right)} & z + 1.221699\\\\0 & 0 & 0 & 1\\end{matrix}\\right]$"
      ],
      "text/plain": [
       "Matrix([\n",
       "[ 0.894591530304377*sin(theta1) + 0.446884765803974*cos(theta1), (0.068682650524968*sin(theta1) - 0.137491635741827*cos(theta1))*cos(theta2) + (0.441575234161222*sin(theta1) - 0.883962700679935*cos(theta1))*sin(theta2), -(0.068682650524968*sin(theta1) - 0.137491635741827*cos(theta1))*sin(theta2) + (0.441575234161222*sin(theta1) - 0.883962700679935*cos(theta1))*cos(theta2), -y - 0.00915647231572164*sin(theta1) - 0.00911576704021242*cos(theta1) + 0.001934],\n",
       "[-0.446884765803974*sin(theta1) + 0.894591530304377*cos(theta1), (0.137491635741827*sin(theta1) + 0.068682650524968*cos(theta1))*cos(theta2) + (0.883962700679935*sin(theta1) + 0.441575234161222*cos(theta1))*sin(theta2), -(0.137491635741827*sin(theta1) + 0.068682650524968*cos(theta1))*sin(theta2) + (0.883962700679935*sin(theta1) + 0.441575234161222*cos(theta1))*cos(theta2),  x + 0.00911576704021242*sin(theta1) - 0.00915647231572164*cos(theta1) + 0.132717],\n",
       "[                                                             0,                                                                                              0.15369208301698*sin(theta2) - 0.988118790236226*cos(theta2),                                                                                               0.988118790236226*sin(theta2) + 0.15369208301698*cos(theta2),                                                                      z + 1.221699],\n",
       "[                                                             0,                                                                                                                                                         0,                                                                                                                                                          0,                                                                                 1]])"
      ]
     },
     "execution_count": 7,
     "metadata": {},
     "output_type": "execute_result"
    }
   ],
   "source": [
    "## 5 degree arm simulation (forward kinematics)\n",
    "pi = sympy.pi\n",
    "base = transform(0.066972, -0.052, 1.9, pi / 2, 0, 0)\n",
    "x, y, z, theta1, theta2, d1, d2, d3, d4, d5, d6 = sympy.symbols(\n",
    "    \"x,y,z,theta1,theta2,d1,d2,d3,d4,d5,d6\"\n",
    ")\n",
    "x_joint = transform(0.066972, -0.052, -0.071717, pi, pi / 2, 0)\n",
    "x_move = transform(x, 0, 0, 0, 0, 0)\n",
    "y_joint = transform(0.0755, 0, 0.18051, pi / 2, pi / 2, 0)\n",
    "y_move = transform(-y, 0, 0, 0, 0, 0)\n",
    "z_joint = transform(0.0755, 0.0375, -0.15871, pi / 2, 0, pi / 2)\n",
    "z_move = transform(0, z, 0, 0, 0, 0)\n",
    "a_joint = transform(0, -0.418, -0.027, -pi / 2, 0.46328, pi)\n",
    "a_move = transform(0, 0, 0, 0, 0, theta1)\n",
    "b_joint = transform(0.012265, 0.004063, 0.049591, 1.7251, 0, -pi)\n",
    "b_move = transform(0, 0, 0, theta2, 0, 0)\n",
    "# base*x_move*x_joint*y_move*y_joint*z_move*z_joint*a_move*a_joint*b_move*b_joint\n",
    "final = (\n",
    "    base\n",
    "    * x_joint\n",
    "    * x_move\n",
    "    * y_joint\n",
    "    * y_move\n",
    "    * z_joint\n",
    "    * z_move\n",
    "    * a_joint\n",
    "    * a_move\n",
    "    * b_joint\n",
    "    * b_move\n",
    ")\n",
    "final"
   ]
  }
 ],
 "metadata": {
  "interpreter": {
   "hash": "4e5c52e6d11453e74cd9d77449ff471c4b9655f679411546b44609265c094c67"
  },
  "kernelspec": {
   "display_name": "Python 3.9.5 64-bit ('general': conda)",
   "language": "python",
   "name": "python3"
  },
  "language_info": {
   "codemirror_mode": {
    "name": "ipython",
    "version": 3
   },
   "file_extension": ".py",
   "mimetype": "text/x-python",
   "name": "python",
   "nbconvert_exporter": "python",
   "pygments_lexer": "ipython3",
   "version": "3.9.15"
  },
  "orig_nbformat": 4
 },
 "nbformat": 4,
 "nbformat_minor": 2
}
