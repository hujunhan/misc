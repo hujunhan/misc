{
 "cells": [
  {
   "cell_type": "code",
   "execution_count": 2,
   "id": "8892d35c",
   "metadata": {},
   "outputs": [],
   "source": [
    "import sympy as sym\n",
    "from IPython.display import display\n",
    "import warnings\n",
    "import time\n",
    "\n",
    "warnings.filterwarnings(\"ignore\")\n",
    "sym.init_printing(use_unicode=True)"
   ]
  },
  {
   "cell_type": "code",
   "execution_count": 3,
   "id": "9647530e",
   "metadata": {},
   "outputs": [],
   "source": [
    "T_x, T_y, T_z, w, x, y, z = sym.symbols(\"T_x T_y T_z w x y z\", real=True)"
   ]
  },
  {
   "cell_type": "code",
   "execution_count": 4,
   "id": "dbbbb81e",
   "metadata": {},
   "outputs": [
    {
     "data": {
      "text/latex": [
       "$\\displaystyle \\left[\\begin{matrix}- 2 y^{2} - 2 z^{2} + 1 & - 2 w z + 2 x y & 2 w y + 2 x z & 0\\\\2 w z + 2 x y & - 2 x^{2} - 2 z^{2} + 1 & - 2 w x + 2 y z & 0\\\\- 2 w y + 2 x z & 2 w x + 2 y z & - 2 x^{2} - 2 y^{2} + 1 & 0\\\\0 & 0 & 0 & 1\\end{matrix}\\right]$"
      ],
      "text/plain": [
       "⎡     2      2                                             ⎤\n",
       "⎢- 2⋅y  - 2⋅z  + 1   -2⋅w⋅z + 2⋅x⋅y      2⋅w⋅y + 2⋅x⋅z    0⎥\n",
       "⎢                                                          ⎥\n",
       "⎢                        2      2                          ⎥\n",
       "⎢  2⋅w⋅z + 2⋅x⋅y    - 2⋅x  - 2⋅z  + 1   -2⋅w⋅x + 2⋅y⋅z    0⎥\n",
       "⎢                                                          ⎥\n",
       "⎢                                           2      2       ⎥\n",
       "⎢ -2⋅w⋅y + 2⋅x⋅z      2⋅w⋅x + 2⋅y⋅z    - 2⋅x  - 2⋅y  + 1  0⎥\n",
       "⎢                                                          ⎥\n",
       "⎣        0                  0                  0          1⎦"
      ]
     },
     "execution_count": 4,
     "metadata": {},
     "output_type": "execute_result"
    }
   ],
   "source": [
    "Rq = sym.Matrix(\n",
    "    [\n",
    "        [1 - 2 * y**2 - 2 * z**2, 2 * x * y - 2 * z * w, 2 * x * z + 2 * y * w, 0],\n",
    "        [2 * x * y + 2 * z * w, 1 - 2 * x**2 - 2 * z**2, 2 * y * z - 2 * x * w, 0],\n",
    "        [2 * x * z - 2 * y * w, 2 * y * z + 2 * x * w, 1 - 2 * x**2 - 2 * y**2, 0],\n",
    "        [0, 0, 0, 1],\n",
    "    ]\n",
    ")\n",
    "Rq"
   ]
  },
  {
   "cell_type": "code",
   "execution_count": 5,
   "id": "f3067c9e",
   "metadata": {},
   "outputs": [
    {
     "data": {
      "text/latex": [
       "$\\displaystyle \\left[\\begin{matrix}1 & 0 & 0 & - T_{x}\\\\0 & 1 & 0 & - T_{y}\\\\0 & 0 & 1 & - T_{z}\\\\0 & 0 & 0 & 1\\end{matrix}\\right]$"
      ],
      "text/plain": [
       "⎡1  0  0  -Tₓ ⎤\n",
       "⎢             ⎥\n",
       "⎢0  1  0  -T_y⎥\n",
       "⎢             ⎥\n",
       "⎢0  0  1  -T_z⎥\n",
       "⎢             ⎥\n",
       "⎣0  0  0   1  ⎦"
      ]
     },
     "execution_count": 5,
     "metadata": {},
     "output_type": "execute_result"
    }
   ],
   "source": [
    "Txyz = sym.Matrix([[1, 0, 0, -T_x], [0, 1, 0, -T_y], [0, 0, 1, -T_z], [0, 0, 0, 1]])\n",
    "Txyz"
   ]
  },
  {
   "cell_type": "code",
   "execution_count": 6,
   "id": "a720e51e",
   "metadata": {},
   "outputs": [
    {
     "data": {
      "text/latex": [
       "$\\displaystyle \\left[\\begin{matrix}- 2 y^{2} - 2 z^{2} + 1 & - 2 w z + 2 x y & 2 w y + 2 x z & - T_{x} \\left(- 2 y^{2} - 2 z^{2} + 1\\right) - T_{y} \\left(- 2 w z + 2 x y\\right) - T_{z} \\left(2 w y + 2 x z\\right)\\\\2 w z + 2 x y & - 2 x^{2} - 2 z^{2} + 1 & - 2 w x + 2 y z & - T_{x} \\left(2 w z + 2 x y\\right) - T_{y} \\left(- 2 x^{2} - 2 z^{2} + 1\\right) - T_{z} \\left(- 2 w x + 2 y z\\right)\\\\- 2 w y + 2 x z & 2 w x + 2 y z & - 2 x^{2} - 2 y^{2} + 1 & - T_{x} \\left(- 2 w y + 2 x z\\right) - T_{y} \\left(2 w x + 2 y z\\right) - T_{z} \\left(- 2 x^{2} - 2 y^{2} + 1\\right)\\\\0 & 0 & 0 & 1\\end{matrix}\\right]$"
      ],
      "text/plain": [
       "⎡     2      2                                                 ⎛     2      2 \n",
       "⎢- 2⋅y  - 2⋅z  + 1   -2⋅w⋅z + 2⋅x⋅y      2⋅w⋅y + 2⋅x⋅z    - Tₓ⋅⎝- 2⋅y  - 2⋅z  \n",
       "⎢                                                                             \n",
       "⎢                        2      2                                             \n",
       "⎢  2⋅w⋅z + 2⋅x⋅y    - 2⋅x  - 2⋅z  + 1   -2⋅w⋅x + 2⋅y⋅z    -Tₓ⋅(2⋅w⋅z + 2⋅x⋅y) \n",
       "⎢                                                                             \n",
       "⎢                                           2      2                          \n",
       "⎢ -2⋅w⋅y + 2⋅x⋅z      2⋅w⋅x + 2⋅y⋅z    - 2⋅x  - 2⋅y  + 1  -Tₓ⋅(-2⋅w⋅y + 2⋅x⋅z)\n",
       "⎢                                                                             \n",
       "⎣        0                  0                  0                              \n",
       "\n",
       "   ⎞                                             ⎤\n",
       "+ 1⎠ - T_y⋅(-2⋅w⋅z + 2⋅x⋅y) - T_z⋅(2⋅w⋅y + 2⋅x⋅z)⎥\n",
       "                                                 ⎥\n",
       "      ⎛     2      2    ⎞                        ⎥\n",
       "- T_y⋅⎝- 2⋅x  - 2⋅z  + 1⎠ - T_z⋅(-2⋅w⋅x + 2⋅y⋅z) ⎥\n",
       "                                                 ⎥\n",
       "                             ⎛     2      2    ⎞ ⎥\n",
       " - T_y⋅(2⋅w⋅x + 2⋅y⋅z) - T_z⋅⎝- 2⋅x  - 2⋅y  + 1⎠ ⎥\n",
       "                                                 ⎥\n",
       "              1                                  ⎦"
      ]
     },
     "execution_count": 6,
     "metadata": {},
     "output_type": "execute_result"
    }
   ],
   "source": [
    "T = Rq * Txyz\n",
    "T"
   ]
  },
  {
   "cell_type": "code",
   "execution_count": 13,
   "id": "66dc9f30",
   "metadata": {},
   "outputs": [
    {
     "data": {
      "text/latex": [
       "$\\displaystyle \\left[\\begin{matrix}\\frac{\\mu}{f} & 0 & - \\frac{C_{x} \\mu}{f}\\\\0 & \\frac{\\mu}{f} & - \\frac{C_{y} \\mu}{f}\\\\0 & 0 & 1\\end{matrix}\\right]$"
      ],
      "text/plain": [
       "⎡μ     -Cₓ⋅μ  ⎤\n",
       "⎢─  0  ────── ⎥\n",
       "⎢f       f    ⎥\n",
       "⎢             ⎥\n",
       "⎢   μ  -C_y⋅μ ⎥\n",
       "⎢0  ─  ───────⎥\n",
       "⎢   f     f   ⎥\n",
       "⎢             ⎥\n",
       "⎣0  0     1   ⎦"
      ]
     },
     "execution_count": 13,
     "metadata": {},
     "output_type": "execute_result"
    }
   ],
   "source": [
    "X_w, Y_w, Z_w, L, f, mu, C_x, C_y = sym.symbols(\"X_w Y_w Z_w L f mu C_x C_y\")\n",
    "# L = 1\n",
    "# mu = 3.45e-6\n",
    "# f = 0.003\n",
    "# C_x = 500\n",
    "# C_y = 500\n",
    "scale = sym.Matrix([[f / mu, 0, C_x], [0, f / mu, C_y], [0, 0, 1]])\n",
    "scale_inv = scale.inv()\n",
    "scale_inv"
   ]
  },
  {
   "cell_type": "markdown",
   "id": "00f694c8",
   "metadata": {},
   "source": [
    "## 圆心"
   ]
  },
  {
   "cell_type": "code",
   "execution_count": 12,
   "id": "c3103f2e",
   "metadata": {},
   "outputs": [
    {
     "data": {
      "image/png": "[encoded data removed]",
      "text/latex": [
       "$\\displaystyle - T_{x} \\left(- 2 w y + 2 x z\\right) - T_{y} \\left(2 w x + 2 y z\\right) - T_{z} \\left(- 2 x^{2} - 2 y^{2} + 1\\right)$"
      ],
      "text/plain": [
       "                                                 ⎛     2      2    ⎞\n",
       "-Tₓ⋅(-2⋅w⋅y + 2⋅x⋅z) - T_y⋅(2⋅w⋅x + 2⋅y⋅z) - T_z⋅⎝- 2⋅x  - 2⋅y  + 1⎠"
      ]
     },
     "metadata": {},
     "output_type": "display_data"
    },
    {
     "data": {
      "text/latex": [
       "$\\displaystyle \\left[\\begin{matrix}- T_{x} \\left(- 2 y^{2} - 2 z^{2} + 1\\right) - T_{y} \\left(- 2 w z + 2 x y\\right) - T_{z} \\left(2 w y + 2 x z\\right)\\\\- T_{x} \\left(2 w z + 2 x y\\right) - T_{y} \\left(- 2 x^{2} - 2 z^{2} + 1\\right) - T_{z} \\left(- 2 w x + 2 y z\\right)\\\\- T_{x} \\left(- 2 w y + 2 x z\\right) - T_{y} \\left(2 w x + 2 y z\\right) - T_{z} \\left(- 2 x^{2} - 2 y^{2} + 1\\right)\\\\1\\end{matrix}\\right]$"
      ],
      "text/plain": [
       "⎡     ⎛     2      2    ⎞                                             ⎤\n",
       "⎢- Tₓ⋅⎝- 2⋅y  - 2⋅z  + 1⎠ - T_y⋅(-2⋅w⋅z + 2⋅x⋅y) - T_z⋅(2⋅w⋅y + 2⋅x⋅z)⎥\n",
       "⎢                                                                     ⎥\n",
       "⎢                          ⎛     2      2    ⎞                        ⎥\n",
       "⎢-Tₓ⋅(2⋅w⋅z + 2⋅x⋅y) - T_y⋅⎝- 2⋅x  - 2⋅z  + 1⎠ - T_z⋅(-2⋅w⋅x + 2⋅y⋅z) ⎥\n",
       "⎢                                                                     ⎥\n",
       "⎢                                                 ⎛     2      2    ⎞ ⎥\n",
       "⎢-Tₓ⋅(-2⋅w⋅y + 2⋅x⋅z) - T_y⋅(2⋅w⋅x + 2⋅y⋅z) - T_z⋅⎝- 2⋅x  - 2⋅y  + 1⎠ ⎥\n",
       "⎢                                                                     ⎥\n",
       "⎣                                  1                                  ⎦"
      ]
     },
     "metadata": {},
     "output_type": "display_data"
    }
   ],
   "source": [
    "p0_w = sym.Matrix([[0], [0], [0], [1]])\n",
    "p0 = T * p0_w\n",
    "display(p0[2])\n",
    "display(p0)\n",
    "Z_p0 = p0[2]\n",
    "p0 = p0 / Z_p0"
   ]
  },
  {
   "cell_type": "markdown",
   "id": "9ed85c02",
   "metadata": {},
   "source": [
    "## X方向直径端点"
   ]
  },
  {
   "cell_type": "code",
   "execution_count": 15,
   "id": "72e85a66",
   "metadata": {},
   "outputs": [
    {
     "data": {
      "image/png": "[encoded data removed]",
      "text/latex": [
       "$\\displaystyle L \\left(- 2 w y + 2 x z\\right) - T_{x} \\left(- 2 w y + 2 x z\\right) - T_{y} \\left(2 w x + 2 y z\\right) - T_{z} \\left(- 2 x^{2} - 2 y^{2} + 1\\right)$"
      ],
      "text/plain": [
       "                                                                     ⎛     2  \n",
       "L⋅(-2⋅w⋅y + 2⋅x⋅z) - Tₓ⋅(-2⋅w⋅y + 2⋅x⋅z) - T_y⋅(2⋅w⋅x + 2⋅y⋅z) - T_z⋅⎝- 2⋅x  -\n",
       "\n",
       "    2    ⎞\n",
       " 2⋅y  + 1⎠"
      ]
     },
     "metadata": {},
     "output_type": "display_data"
    },
    {
     "data": {
      "text/latex": [
       "$\\displaystyle \\left[\\begin{matrix}L \\left(- 2 y^{2} - 2 z^{2} + 1\\right) - T_{x} \\left(- 2 y^{2} - 2 z^{2} + 1\\right) - T_{y} \\left(- 2 w z + 2 x y\\right) - T_{z} \\left(2 w y + 2 x z\\right)\\\\L \\left(2 w z + 2 x y\\right) - T_{x} \\left(2 w z + 2 x y\\right) - T_{y} \\left(- 2 x^{2} - 2 z^{2} + 1\\right) - T_{z} \\left(- 2 w x + 2 y z\\right)\\\\L \\left(- 2 w y + 2 x z\\right) - T_{x} \\left(- 2 w y + 2 x z\\right) - T_{y} \\left(2 w x + 2 y z\\right) - T_{z} \\left(- 2 x^{2} - 2 y^{2} + 1\\right)\\\\1\\end{matrix}\\right]$"
      ],
      "text/plain": [
       "⎡  ⎛     2      2    ⎞      ⎛     2      2    ⎞                               \n",
       "⎢L⋅⎝- 2⋅y  - 2⋅z  + 1⎠ - Tₓ⋅⎝- 2⋅y  - 2⋅z  + 1⎠ - T_y⋅(-2⋅w⋅z + 2⋅x⋅y) - T_z⋅(\n",
       "⎢                                                                             \n",
       "⎢                                               ⎛     2      2    ⎞           \n",
       "⎢  L⋅(2⋅w⋅z + 2⋅x⋅y) - Tₓ⋅(2⋅w⋅z + 2⋅x⋅y) - T_y⋅⎝- 2⋅x  - 2⋅z  + 1⎠ - T_z⋅(-2⋅\n",
       "⎢                                                                             \n",
       "⎢                                                                      ⎛     2\n",
       "⎢ L⋅(-2⋅w⋅y + 2⋅x⋅z) - Tₓ⋅(-2⋅w⋅y + 2⋅x⋅z) - T_y⋅(2⋅w⋅x + 2⋅y⋅z) - T_z⋅⎝- 2⋅x \n",
       "⎢                                                                             \n",
       "⎣                                             1                               \n",
       "\n",
       "              ⎤\n",
       "2⋅w⋅y + 2⋅x⋅z)⎥\n",
       "              ⎥\n",
       "              ⎥\n",
       "w⋅x + 2⋅y⋅z)  ⎥\n",
       "              ⎥\n",
       "      2    ⎞  ⎥\n",
       " - 2⋅y  + 1⎠  ⎥\n",
       "              ⎥\n",
       "              ⎦"
      ]
     },
     "metadata": {},
     "output_type": "display_data"
    }
   ],
   "source": [
    "px_w = sym.Matrix([[L], [0], [0], [1]])\n",
    "px = T * px_w\n",
    "display(px[2])\n",
    "display(px)\n",
    "Z_px = px[2]\n",
    "\n",
    "px = px / Z_px"
   ]
  },
  {
   "cell_type": "markdown",
   "id": "9cd6cf5e",
   "metadata": {},
   "source": [
    "## Y方向直径端点"
   ]
  },
  {
   "cell_type": "code",
   "execution_count": 16,
   "id": "06d28515",
   "metadata": {},
   "outputs": [
    {
     "data": {
      "image/png": "[encoded data removed]",
      "text/latex": [
       "$\\displaystyle L \\left(2 w x + 2 y z\\right) - T_{x} \\left(- 2 w y + 2 x z\\right) - T_{y} \\left(2 w x + 2 y z\\right) - T_{z} \\left(- 2 x^{2} - 2 y^{2} + 1\\right)$"
      ],
      "text/plain": [
       "                                                                    ⎛     2   \n",
       "L⋅(2⋅w⋅x + 2⋅y⋅z) - Tₓ⋅(-2⋅w⋅y + 2⋅x⋅z) - T_y⋅(2⋅w⋅x + 2⋅y⋅z) - T_z⋅⎝- 2⋅x  - \n",
       "\n",
       "   2    ⎞\n",
       "2⋅y  + 1⎠"
      ]
     },
     "metadata": {},
     "output_type": "display_data"
    },
    {
     "data": {
      "text/latex": [
       "$\\displaystyle \\left[\\begin{matrix}L \\left(- 2 w z + 2 x y\\right) - T_{x} \\left(- 2 y^{2} - 2 z^{2} + 1\\right) - T_{y} \\left(- 2 w z + 2 x y\\right) - T_{z} \\left(2 w y + 2 x z\\right)\\\\L \\left(- 2 x^{2} - 2 z^{2} + 1\\right) - T_{x} \\left(2 w z + 2 x y\\right) - T_{y} \\left(- 2 x^{2} - 2 z^{2} + 1\\right) - T_{z} \\left(- 2 w x + 2 y z\\right)\\\\L \\left(2 w x + 2 y z\\right) - T_{x} \\left(- 2 w y + 2 x z\\right) - T_{y} \\left(2 w x + 2 y z\\right) - T_{z} \\left(- 2 x^{2} - 2 y^{2} + 1\\right)\\\\1\\end{matrix}\\right]$"
      ],
      "text/plain": [
       "⎡                         ⎛     2      2    ⎞                                 \n",
       "⎢ L⋅(-2⋅w⋅z + 2⋅x⋅y) - Tₓ⋅⎝- 2⋅y  - 2⋅z  + 1⎠ - T_y⋅(-2⋅w⋅z + 2⋅x⋅y) - T_z⋅(2⋅\n",
       "⎢                                                                             \n",
       "⎢  ⎛     2      2    ⎞                            ⎛     2      2    ⎞         \n",
       "⎢L⋅⎝- 2⋅x  - 2⋅z  + 1⎠ - Tₓ⋅(2⋅w⋅z + 2⋅x⋅y) - T_y⋅⎝- 2⋅x  - 2⋅z  + 1⎠ - T_z⋅(-\n",
       "⎢                                                                             \n",
       "⎢                                                                      ⎛     2\n",
       "⎢  L⋅(2⋅w⋅x + 2⋅y⋅z) - Tₓ⋅(-2⋅w⋅y + 2⋅x⋅z) - T_y⋅(2⋅w⋅x + 2⋅y⋅z) - T_z⋅⎝- 2⋅x \n",
       "⎢                                                                             \n",
       "⎣                                             1                               \n",
       "\n",
       "              ⎤\n",
       "w⋅y + 2⋅x⋅z)  ⎥\n",
       "              ⎥\n",
       "              ⎥\n",
       "2⋅w⋅x + 2⋅y⋅z)⎥\n",
       "              ⎥\n",
       "      2    ⎞  ⎥\n",
       " - 2⋅y  + 1⎠  ⎥\n",
       "              ⎥\n",
       "              ⎦"
      ]
     },
     "metadata": {},
     "output_type": "display_data"
    }
   ],
   "source": [
    "py_w = sym.Matrix([[0], [L], [0], [1]])\n",
    "py = T * py_w\n",
    "display(py[2])\n",
    "display(py)\n",
    "Z_py = py[2]\n",
    "py = py / Z_py"
   ]
  },
  {
   "cell_type": "code",
   "execution_count": 84,
   "id": "04bec7af",
   "metadata": {},
   "outputs": [],
   "source": []
  },
  {
   "cell_type": "code",
   "execution_count": 85,
   "id": "affa25d1-094f-42d7-9c1e-be6f78083923",
   "metadata": {},
   "outputs": [
    {
     "data": {
      "text/latex": [
       "$\\displaystyle \\left[\\begin{matrix}0.12187682627054 & 0.306988236893662 & 1.0\\\\1.11022302462516 \\cdot 10^{-16} & 0.60328888465295 & 1.0\\\\-0.0971155262093009 & 0.151853994076519 & 1.0\\end{matrix}\\right]$"
      ],
      "text/plain": [
       "⎡  0.12187682627054    0.306988236893662  1.0⎤\n",
       "⎢                                            ⎥\n",
       "⎢1.11022302462516e-16  0.60328888465295   1.0⎥\n",
       "⎢                                            ⎥\n",
       "⎣-0.0971155262093009   0.151853994076519  1.0⎦"
      ]
     },
     "metadata": {},
     "output_type": "display_data"
    }
   ],
   "source": [
    "from virtual_camera import VirtualCamera\n",
    "import numpy as np\n",
    "\n",
    "cam = VirtualCamera(np.pi / 12, np.pi / 6, np.pi / 3, 1, 2, 3, 0.003, [1000, 1000])\n",
    "p = np.array([[0, 0, 0], [1, 0, 0], [0, 1, 0]])\n",
    "p = p.reshape(-1, 3)\n",
    "pixels = cam.project_world_to_pixel(p)\n",
    "pixels = sym.Matrix(pixels)\n",
    "pixelsT = pixels.T\n",
    "pixelsT = scale_inv * pixelsT\n",
    "pixels = pixelsT.T\n",
    "display(pixels)"
   ]
  },
  {
   "cell_type": "code",
   "execution_count": 145,
   "id": "6871d701-ae3d-4dd0-9f3f-eea29db19e97",
   "metadata": {},
   "outputs": [
    {
     "data": {
      "image/png": "[encoded data removed]",
      "text/latex": [
       "$\\displaystyle 0.12187682627054 T_{x} \\left(- 2 w y + 2 x z\\right) - T_{x} \\left(- 2 y^{2} - 2 z^{2} + 1\\right) + 0.12187682627054 T_{y} \\left(2 w x + 2 y z\\right) - T_{y} \\left(- 2 w z + 2 x y\\right) - T_{z} \\left(2 w y + 2 x z\\right) + 0.12187682627054 T_{z} \\left(- 2 x^{2} - 2 y^{2} + 1\\right)$"
      ],
      "text/plain": [
       "                                          ⎛     2      2    ⎞                 \n",
       "0.12187682627054⋅Tₓ⋅(-2⋅w⋅y + 2⋅x⋅z) - Tₓ⋅⎝- 2⋅y  - 2⋅z  + 1⎠ + 0.121876826270\n",
       "\n",
       "                                                                              \n",
       "54⋅T_y⋅(2⋅w⋅x + 2⋅y⋅z) - T_y⋅(-2⋅w⋅z + 2⋅x⋅y) - T_z⋅(2⋅w⋅y + 2⋅x⋅z) + 0.121876\n",
       "\n",
       "             ⎛     2      2    ⎞\n",
       "82627054⋅T_z⋅⎝- 2⋅x  - 2⋅y  + 1⎠"
      ]
     },
     "metadata": {},
     "output_type": "display_data"
    }
   ],
   "source": [
    "eq1 = p0[0] - pixels[0, 0]\n",
    "eq2 = p0[1] - pixels[0, 1]\n",
    "eq3 = px[0] - pixels[1, 0]\n",
    "eq4 = px[1] - pixels[1, 1]\n",
    "eq5 = py[0] - pixels[2, 0]\n",
    "eq6 = py[1] - pixels[2, 1]\n",
    "eq7 = w**2 + x**2 + y**2 + z**2 - 1\n",
    "eq1 = eq1.as_numer_denom()[0]\n",
    "eq2 = eq2.as_numer_denom()[0]\n",
    "eq3 = eq3.as_numer_denom()[0]\n",
    "eq4 = eq4.as_numer_denom()[0]\n",
    "eq5 = eq5.as_numer_denom()[0]\n",
    "eq6 = eq6.as_numer_denom()[0]\n",
    "eq7 = eq7.as_numer_denom()[0]\n",
    "display(eq1)\n",
    "eqn = (eq1, eq2, eq3, eq4, eq5, eq6, eq7)\n",
    "para = (T_x, T_y, T_z, w, x, y, z)\n",
    "guess = (0, 0, 0, 0.5, 0, 0, 0)"
   ]
  },
  {
   "cell_type": "code",
   "execution_count": null,
   "id": "d6085a1c-07fb-4bbf-8ee7-cd15f8c1f101",
   "metadata": {},
   "outputs": [],
   "source": [
    "from sympy.solvers.solveset import nonlinsolve\n",
    "\n",
    "nonlinsolve(eqn, [T_x, T_y, T_z, w, x, y, z])"
   ]
  },
  {
   "cell_type": "code",
   "execution_count": null,
   "id": "957b1cdd-ada7-4ef8-b5fe-0e81cb2e45fe",
   "metadata": {},
   "outputs": [],
   "source": [
    "from sympy import solve\n",
    "\n",
    "ans = solve(eqn, para)"
   ]
  },
  {
   "cell_type": "code",
   "execution_count": 149,
   "id": "140a288e-bddc-4621-842b-00eec7c40c66",
   "metadata": {},
   "outputs": [
    {
     "name": "stdout",
     "output_type": "stream",
     "text": [
      "80.7 ms ± 37.5 µs per loop (mean ± std. dev. of 7 runs, 10 loops each)\n"
     ]
    }
   ],
   "source": [
    "\n",
    "from sympy import nsolve\n",
    "%timeit nsolve(eqn, para, guess, verify=False, dict=True, rational=True,prec=5)"
   ]
  },
  {
   "cell_type": "code",
   "execution_count": null,
   "id": "48e535bd-41ef-4569-b5c9-0e180ddf1ed1",
   "metadata": {},
   "outputs": [],
   "source": []
  }
 ],
 "metadata": {
  "kernelspec": {
   "display_name": "Python 3.9.12 ('plantcv')",
   "language": "python",
   "name": "python3"
  },
  "language_info": {
   "codemirror_mode": {
    "name": "ipython",
    "version": 3
   },
   "file_extension": ".py",
   "mimetype": "text/x-python",
   "name": "python",
   "nbconvert_exporter": "python",
   "pygments_lexer": "ipython3",
   "version": "3.9.12"
  },
  "vscode": {
   "interpreter": {
    "hash": "3e8ff35eee59fe97d31dd0a42d8729b171ccaa4d99149318c4c5a9d7ef37df34"
   }
  }
 },
 "nbformat": 4,
 "nbformat_minor": 5
}
