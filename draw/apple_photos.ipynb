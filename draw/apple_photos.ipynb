{
 "cells": [
  {
   "cell_type": "code",
   "execution_count": null,
   "metadata": {},
   "outputs": [
    {
     "ename": "",
     "evalue": "",
     "output_type": "error",
     "traceback": [
      "\u001b[1;31mRunning cells with 'osxphotos (Python 3.12.3)' requires the ipykernel package.\n",
      "\u001b[1;31mRun the following command to install 'ipykernel' into the Python environment. \n",
      "\u001b[1;31mCommand: 'conda install -n osxphotos ipykernel --update-deps --force-reinstall'"
     ]
    }
   ],
   "source": [
    "import osxphotos\n",
    "\n",
    "photosdb = osxphotos.PhotosDB(osxphotos.utils.get_last_library_path())\n",
    "\n",
    "# get data from each photo: date, location, places, title\n",
    "# put into a dict, if without location, then skip\n",
    "photos_with_location = photosdb.query(osxphotos.QueryOptions(location=True))"
   ]
  }
 ],
 "metadata": {
  "kernelspec": {
   "display_name": "osxphotos",
   "language": "python",
   "name": "python3"
  },
  "language_info": {
   "name": "python",
   "version": "3.12.3"
  }
 },
 "nbformat": 4,
 "nbformat_minor": 2
}
