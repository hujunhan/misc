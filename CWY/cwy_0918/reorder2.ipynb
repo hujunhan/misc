{
 "cells": [
  {
   "cell_type": "code",
   "execution_count": 36,
   "metadata": {},
   "outputs": [],
   "source": [
    "from pyecharts import options as opts\n",
    "from pyecharts.charts import Geo\n",
    "from pyecharts.globals import ChartType, SymbolType\n",
    "import pandas as pd"
   ]
  },
  {
   "cell_type": "code",
   "execution_count": 37,
   "metadata": {},
   "outputs": [],
   "source": [
    "file='experiments_sum_results_only hub,outRate_0.5'\n",
    "path=f'./累积/{file}.xlsx'\n",
    "df=pd.read_excel(path,sheet_name='任务传输矩阵')\n",
    "df.set_index('省',inplace=True)"
   ]
  },
  {
   "cell_type": "code",
   "execution_count": 38,
   "metadata": {},
   "outputs": [
    {
     "name": "stdout",
     "output_type": "stream",
     "text": [
      "['黑龙江', '吉林', '辽宁', '河北', '北京', '天津', '山东', '江苏', '上海', '浙江', '福建', '台湾', '广东', '香港', '澳门', '海南', '安徽', '湖南', '湖北', '河南', '山西', '内蒙古', '陕西', '宁夏', '甘肃', '青海', '新疆', '四川', '重庆', '贵州', '广西', '云南', '西藏']\n"
     ]
    }
   ],
   "source": [
    "order_file=pd.read_excel('./累积/模版.xlsx',sheet_name='Sheet1')\n",
    "p_order=order_file['省'].values.tolist()\n",
    "print(p_order)\n",
    "p_order.remove('香港')\n",
    "p_order.remove('澳门')\n",
    "p_order.remove('台湾')"
   ]
  },
  {
   "cell_type": "code",
   "execution_count": 39,
   "metadata": {},
   "outputs": [],
   "source": [
    "new_df=pd.DataFrame()\n",
    "new_df['省']=p_order\n",
    "for col in p_order:\n",
    "    data=[]\n",
    "    for row in p_order:\n",
    "        data.append(df[col][row])\n",
    "    new_df[col]=data\n"
   ]
  },
  {
   "cell_type": "code",
   "execution_count": 40,
   "metadata": {},
   "outputs": [],
   "source": [
    "new_df.to_excel(f'./累积/new_{file}.xlsx')"
   ]
  }
 ],
 "metadata": {
  "kernelspec": {
   "display_name": "Python 3.9.12 ('plantcv')",
   "language": "python",
   "name": "python3"
  },
  "language_info": {
   "codemirror_mode": {
    "name": "ipython",
    "version": 3
   },
   "file_extension": ".py",
   "mimetype": "text/x-python",
   "name": "python",
   "nbconvert_exporter": "python",
   "pygments_lexer": "ipython3",
   "version": "3.9.12"
  },
  "orig_nbformat": 4,
  "vscode": {
   "interpreter": {
    "hash": "3e8ff35eee59fe97d31dd0a42d8729b171ccaa4d99149318c4c5a9d7ef37df34"
   }
  }
 },
 "nbformat": 4,
 "nbformat_minor": 2
}
