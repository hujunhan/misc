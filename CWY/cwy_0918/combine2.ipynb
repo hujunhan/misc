{
 "cells": [
  {
   "cell_type": "code",
   "execution_count": 1,
   "metadata": {},
   "outputs": [],
   "source": [
    "from pyecharts import options as opts\n",
    "from pyecharts.charts import Geo\n",
    "from pyecharts.globals import ChartType, SymbolType\n",
    "import pandas as pd"
   ]
  },
  {
   "cell_type": "code",
   "execution_count": 16,
   "metadata": {},
   "outputs": [],
   "source": [
    "data=[]\n",
    "for year in range(2022,2031):\n",
    "    path=f'./data/{year}/fcm-b.xlsx'\n",
    "    df=pd.read_excel(path,sheet_name='综合度电成本')\n",
    "    df2=pd.read_excel(path,sheet_name='新能源使用率（后）')\n",
    "    before=df['单位任务总用电成本（前）'][0]\n",
    "    after=df['单位任务总用电成本（后）'][0]\n",
    "    c=df2['水总用量'][6]\n",
    "    d=(before-after)/100000/6.94*c\n",
    "    data.append(d)"
   ]
  },
  {
   "cell_type": "code",
   "execution_count": 17,
   "metadata": {},
   "outputs": [
    {
     "name": "stdout",
     "output_type": "stream",
     "text": [
      "1.7980485599649818\n",
      "1.8154868776888222\n",
      "1.8515381466372853\n",
      "1.6732622601006206\n",
      "2.0063954409365135\n",
      "2.5877616683821953\n",
      "3.3966557161517206\n",
      "4.28952842399648\n",
      "4.816291157245381\n",
      "24.234968251104\n"
     ]
    }
   ],
   "source": [
    "for d in data:\n",
    "    print(d)\n",
    "print(sum(data))"
   ]
  }
 ],
 "metadata": {
  "kernelspec": {
   "display_name": "Python 3.9.12 ('plantcv')",
   "language": "python",
   "name": "python3"
  },
  "language_info": {
   "codemirror_mode": {
    "name": "ipython",
    "version": 3
   },
   "file_extension": ".py",
   "mimetype": "text/x-python",
   "name": "python",
   "nbconvert_exporter": "python",
   "pygments_lexer": "ipython3",
   "version": "3.9.12"
  },
  "orig_nbformat": 4,
  "vscode": {
   "interpreter": {
    "hash": "3e8ff35eee59fe97d31dd0a42d8729b171ccaa4d99149318c4c5a9d7ef37df34"
   }
  }
 },
 "nbformat": 4,
 "nbformat_minor": 2
}
