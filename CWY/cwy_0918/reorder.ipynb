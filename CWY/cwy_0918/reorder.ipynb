{
 "cells": [
  {
   "cell_type": "code",
   "execution_count": 44,
   "metadata": {},
   "outputs": [],
   "source": [
    "from pyecharts import options as opts\n",
    "from pyecharts.charts import Geo\n",
    "from pyecharts.globals import ChartType, SymbolType\n",
    "import pandas as pd"
   ]
  },
  {
   "cell_type": "code",
   "execution_count": 45,
   "metadata": {},
   "outputs": [],
   "source": [
    "file='8HN-c'\n",
    "path=f'./fig2_data/{file}.xlsx'\n",
    "df=pd.read_excel(path,sheet_name='输电变化')\n",
    "df.set_index('省',inplace=True)"
   ]
  },
  {
   "cell_type": "code",
   "execution_count": 46,
   "metadata": {},
   "outputs": [
    {
     "name": "stdout",
     "output_type": "stream",
     "text": [
      "['北京', '天津', '山西', '内蒙古', '河北', '山东', '辽宁', '吉林', '黑龙江', '河南', '湖北', '湖南', '江西', '安徽', '浙江', '江苏', '上海', '福建', '重庆', '四川', '西藏', '陕西', '宁夏', '甘肃', '青海', '新疆', '云南', '贵州', '广西', '广东', '海南']\n"
     ]
    }
   ],
   "source": [
    "order_file=pd.read_excel('./fig2_data/省份顺序模板.xlsx',sheet_name='Sheet1')\n",
    "p_order=order_file['省'].values.tolist()\n",
    "print(p_order)"
   ]
  },
  {
   "cell_type": "code",
   "execution_count": 47,
   "metadata": {},
   "outputs": [],
   "source": [
    "new_df=pd.DataFrame()\n",
    "new_df['省']=p_order\n",
    "for col in p_order:\n",
    "    data=[]\n",
    "    for row in p_order:\n",
    "        data.append(df[col][row])\n",
    "    new_df[col]=data\n"
   ]
  },
  {
   "cell_type": "code",
   "execution_count": 48,
   "metadata": {},
   "outputs": [],
   "source": [
    "new_df.to_excel(f'./fig2_data/new_{file}.xlsx')"
   ]
  }
 ],
 "metadata": {
  "kernelspec": {
   "display_name": "Python 3.9.12 ('plantcv')",
   "language": "python",
   "name": "python3"
  },
  "language_info": {
   "codemirror_mode": {
    "name": "ipython",
    "version": 3
   },
   "file_extension": ".py",
   "mimetype": "text/x-python",
   "name": "python",
   "nbconvert_exporter": "python",
   "pygments_lexer": "ipython3",
   "version": "3.9.12"
  },
  "orig_nbformat": 4,
  "vscode": {
   "interpreter": {
    "hash": "3e8ff35eee59fe97d31dd0a42d8729b171ccaa4d99149318c4c5a9d7ef37df34"
   }
  }
 },
 "nbformat": 4,
 "nbformat_minor": 2
}
