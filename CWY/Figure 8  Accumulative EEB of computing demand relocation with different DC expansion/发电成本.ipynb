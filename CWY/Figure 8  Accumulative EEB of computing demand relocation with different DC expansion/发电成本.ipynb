{
 "cells": [
  {
   "cell_type": "code",
   "execution_count": 2,
   "metadata": {},
   "outputs": [],
   "source": [
    "from pyecharts import options as opts\n",
    "from pyecharts.charts import Geo\n",
    "from pyecharts.globals import ChartType, SymbolType\n",
    "import pandas as pd\n",
    "import glob"
   ]
  },
  {
   "cell_type": "code",
   "execution_count": 5,
   "metadata": {},
   "outputs": [],
   "source": [
    "path='./求和_ir_all provinces&only hub_1015/all provinces/求和_all provinces_ir_1.4.xlsx'\n",
    "df=pd.read_excel(path,sheet_name='总发电成本变化',header=None)"
   ]
  },
  {
   "cell_type": "code",
   "execution_count": 9,
   "metadata": {},
   "outputs": [
    {
     "data": {
      "text/plain": [
       "1053.6982154686286"
      ]
     },
     "execution_count": 9,
     "metadata": {},
     "output_type": "execute_result"
    }
   ],
   "source": [
    "sum(df.sum().tolist())"
   ]
  },
  {
   "cell_type": "code",
   "execution_count": 27,
   "metadata": {},
   "outputs": [
    {
     "name": "stdout",
     "output_type": "stream",
     "text": [
      "['./求和_ir_all provinces&only hub_1015/all provinces/求和_all provinces_ir_1.32.xlsx', './求和_ir_all provinces&only hub_1015/all provinces/求和_all provinces_ir_1.4.xlsx', './求和_ir_all provinces&only hub_1015/all provinces/求和_all provinces_ir_1.5.xlsx', './求和_ir_all provinces&only hub_1015/all provinces/求和_all provinces_ir_1.6.xlsx', './求和_ir_all provinces&only hub_1015/all provinces/求和_all provinces_ir_1.7.xlsx', './求和_ir_all provinces&only hub_1015/all provinces/求和_all provinces_ir_1.8.xlsx', './求和_ir_all provinces&only hub_1015/all provinces/求和_all provinces_ir_1.9.xlsx', './求和_ir_all provinces&only hub_1015/all provinces/求和_all provinces_ir_10.xlsx', './求和_ir_all provinces&only hub_1015/all provinces/求和_all provinces_ir_2.1.xlsx', './求和_ir_all provinces&only hub_1015/all provinces/求和_all provinces_ir_2.2.xlsx', './求和_ir_all provinces&only hub_1015/all provinces/求和_all provinces_ir_2.3.xlsx', './求和_ir_all provinces&only hub_1015/all provinces/求和_all provinces_ir_2.4.xlsx', './求和_ir_all provinces&only hub_1015/all provinces/求和_all provinces_ir_2.5.xlsx', './求和_ir_all provinces&only hub_1015/all provinces/求和_all provinces_ir_2.6.xlsx', './求和_ir_all provinces&only hub_1015/all provinces/求和_all provinces_ir_2.7.xlsx', './求和_ir_all provinces&only hub_1015/all provinces/求和_all provinces_ir_2.8.xlsx', './求和_ir_all provinces&only hub_1015/all provinces/求和_all provinces_ir_2.9.xlsx', './求和_ir_all provinces&only hub_1015/all provinces/求和_all provinces_ir_2.xlsx', './求和_ir_all provinces&only hub_1015/all provinces/求和_all provinces_ir_3.2.xlsx', './求和_ir_all provinces&only hub_1015/all provinces/求和_all provinces_ir_3.4.xlsx', './求和_ir_all provinces&only hub_1015/all provinces/求和_all provinces_ir_3.5.xlsx', './求和_ir_all provinces&only hub_1015/all provinces/求和_all provinces_ir_3.6.xlsx', './求和_ir_all provinces&only hub_1015/all provinces/求和_all provinces_ir_3.8.xlsx', './求和_ir_all provinces&only hub_1015/all provinces/求和_all provinces_ir_3.xlsx', './求和_ir_all provinces&only hub_1015/all provinces/求和_all provinces_ir_4.2.xlsx', './求和_ir_all provinces&only hub_1015/all provinces/求和_all provinces_ir_4.5.xlsx', './求和_ir_all provinces&only hub_1015/all provinces/求和_all provinces_ir_4.6.xlsx', './求和_ir_all provinces&only hub_1015/all provinces/求和_all provinces_ir_4.8.xlsx', './求和_ir_all provinces&only hub_1015/all provinces/求和_all provinces_ir_4.xlsx', './求和_ir_all provinces&only hub_1015/all provinces/求和_all provinces_ir_5.2.xlsx', './求和_ir_all provinces&only hub_1015/all provinces/求和_all provinces_ir_5.4.xlsx', './求和_ir_all provinces&only hub_1015/all provinces/求和_all provinces_ir_5.6.xlsx', './求和_ir_all provinces&only hub_1015/all provinces/求和_all provinces_ir_5.8.xlsx', './求和_ir_all provinces&only hub_1015/all provinces/求和_all provinces_ir_5.xlsx', './求和_ir_all provinces&only hub_1015/all provinces/求和_all provinces_ir_6.2.xlsx', './求和_ir_all provinces&only hub_1015/all provinces/求和_all provinces_ir_6.4.xlsx', './求和_ir_all provinces&only hub_1015/all provinces/求和_all provinces_ir_6.6.xlsx', './求和_ir_all provinces&only hub_1015/all provinces/求和_all provinces_ir_6.8.xlsx', './求和_ir_all provinces&only hub_1015/all provinces/求和_all provinces_ir_6.xlsx', './求和_ir_all provinces&only hub_1015/all provinces/求和_all provinces_ir_7.xlsx', './求和_ir_all provinces&only hub_1015/all provinces/求和_all provinces_ir_8.xlsx', './求和_ir_all provinces&only hub_1015/all provinces/求和_all provinces_ir_9.5.xlsx', './求和_ir_all provinces&only hub_1015/all provinces/求和_all provinces_ir_9.xlsx']\n"
     ]
    }
   ],
   "source": [
    "path_list=glob.glob('./求和_ir_all provinces&only hub_1015/all provinces/*.xlsx')\n",
    "path_list=sorted(path_list)\n",
    "print(path_list)"
   ]
  },
  {
   "cell_type": "code",
   "execution_count": 28,
   "metadata": {},
   "outputs": [
    {
     "name": "stdout",
     "output_type": "stream",
     "text": [
      "./求和_ir_all provinces&only hub_1015/all provinces/求和_all provinces_ir_1.32.xlsx\n",
      "1.32\n",
      "./求和_ir_all provinces&only hub_1015/all provinces/求和_all provinces_ir_1.4.xlsx\n",
      "1.4\n",
      "./求和_ir_all provinces&only hub_1015/all provinces/求和_all provinces_ir_1.5.xlsx\n",
      "1.5\n",
      "./求和_ir_all provinces&only hub_1015/all provinces/求和_all provinces_ir_1.6.xlsx\n",
      "1.6\n",
      "./求和_ir_all provinces&only hub_1015/all provinces/求和_all provinces_ir_1.7.xlsx\n",
      "1.7\n",
      "./求和_ir_all provinces&only hub_1015/all provinces/求和_all provinces_ir_1.8.xlsx\n",
      "1.8\n",
      "./求和_ir_all provinces&only hub_1015/all provinces/求和_all provinces_ir_1.9.xlsx\n",
      "1.9\n",
      "./求和_ir_all provinces&only hub_1015/all provinces/求和_all provinces_ir_10.xlsx\n",
      "10.0\n",
      "./求和_ir_all provinces&only hub_1015/all provinces/求和_all provinces_ir_2.1.xlsx\n",
      "2.1\n",
      "./求和_ir_all provinces&only hub_1015/all provinces/求和_all provinces_ir_2.2.xlsx\n",
      "2.2\n",
      "./求和_ir_all provinces&only hub_1015/all provinces/求和_all provinces_ir_2.3.xlsx\n",
      "2.3\n",
      "./求和_ir_all provinces&only hub_1015/all provinces/求和_all provinces_ir_2.4.xlsx\n",
      "2.4\n",
      "./求和_ir_all provinces&only hub_1015/all provinces/求和_all provinces_ir_2.5.xlsx\n",
      "2.5\n",
      "./求和_ir_all provinces&only hub_1015/all provinces/求和_all provinces_ir_2.6.xlsx\n",
      "2.6\n",
      "./求和_ir_all provinces&only hub_1015/all provinces/求和_all provinces_ir_2.7.xlsx\n",
      "2.7\n",
      "./求和_ir_all provinces&only hub_1015/all provinces/求和_all provinces_ir_2.8.xlsx\n",
      "2.8\n",
      "./求和_ir_all provinces&only hub_1015/all provinces/求和_all provinces_ir_2.9.xlsx\n",
      "2.9\n",
      "./求和_ir_all provinces&only hub_1015/all provinces/求和_all provinces_ir_2.xlsx\n",
      "2.0\n",
      "./求和_ir_all provinces&only hub_1015/all provinces/求和_all provinces_ir_3.2.xlsx\n",
      "3.2\n",
      "./求和_ir_all provinces&only hub_1015/all provinces/求和_all provinces_ir_3.4.xlsx\n",
      "3.4\n",
      "./求和_ir_all provinces&only hub_1015/all provinces/求和_all provinces_ir_3.5.xlsx\n",
      "3.5\n",
      "./求和_ir_all provinces&only hub_1015/all provinces/求和_all provinces_ir_3.6.xlsx\n",
      "3.6\n",
      "./求和_ir_all provinces&only hub_1015/all provinces/求和_all provinces_ir_3.8.xlsx\n",
      "3.8\n",
      "./求和_ir_all provinces&only hub_1015/all provinces/求和_all provinces_ir_3.xlsx\n",
      "3.0\n",
      "./求和_ir_all provinces&only hub_1015/all provinces/求和_all provinces_ir_4.2.xlsx\n",
      "4.2\n",
      "./求和_ir_all provinces&only hub_1015/all provinces/求和_all provinces_ir_4.5.xlsx\n",
      "4.5\n",
      "./求和_ir_all provinces&only hub_1015/all provinces/求和_all provinces_ir_4.6.xlsx\n",
      "4.6\n",
      "./求和_ir_all provinces&only hub_1015/all provinces/求和_all provinces_ir_4.8.xlsx\n",
      "4.8\n",
      "./求和_ir_all provinces&only hub_1015/all provinces/求和_all provinces_ir_4.xlsx\n",
      "4.0\n",
      "./求和_ir_all provinces&only hub_1015/all provinces/求和_all provinces_ir_5.2.xlsx\n",
      "5.2\n",
      "./求和_ir_all provinces&only hub_1015/all provinces/求和_all provinces_ir_5.4.xlsx\n",
      "5.4\n",
      "./求和_ir_all provinces&only hub_1015/all provinces/求和_all provinces_ir_5.6.xlsx\n",
      "5.6\n",
      "./求和_ir_all provinces&only hub_1015/all provinces/求和_all provinces_ir_5.8.xlsx\n",
      "5.8\n",
      "./求和_ir_all provinces&only hub_1015/all provinces/求和_all provinces_ir_5.xlsx\n",
      "5.0\n",
      "./求和_ir_all provinces&only hub_1015/all provinces/求和_all provinces_ir_6.2.xlsx\n",
      "6.2\n",
      "./求和_ir_all provinces&only hub_1015/all provinces/求和_all provinces_ir_6.4.xlsx\n",
      "6.4\n",
      "./求和_ir_all provinces&only hub_1015/all provinces/求和_all provinces_ir_6.6.xlsx\n",
      "6.6\n",
      "./求和_ir_all provinces&only hub_1015/all provinces/求和_all provinces_ir_6.8.xlsx\n",
      "6.8\n",
      "./求和_ir_all provinces&only hub_1015/all provinces/求和_all provinces_ir_6.xlsx\n",
      "6.0\n",
      "./求和_ir_all provinces&only hub_1015/all provinces/求和_all provinces_ir_7.xlsx\n",
      "7.0\n",
      "./求和_ir_all provinces&only hub_1015/all provinces/求和_all provinces_ir_8.xlsx\n",
      "8.0\n",
      "./求和_ir_all provinces&only hub_1015/all provinces/求和_all provinces_ir_9.5.xlsx\n",
      "9.5\n",
      "./求和_ir_all provinces&only hub_1015/all provinces/求和_all provinces_ir_9.xlsx\n",
      "9.0\n"
     ]
    }
   ],
   "source": [
    "for path in path_list:\n",
    "    print(path)\n",
    "    ir=float(path.split('_')[-1][:-5])\n",
    "    print(ir)"
   ]
  },
  {
   "cell_type": "code",
   "execution_count": 29,
   "metadata": {},
   "outputs": [
    {
     "name": "stdout",
     "output_type": "stream",
     "text": [
      "16716.584156172445\n",
      "15182.971404447097\n",
      "10418.848254737508\n",
      "6003.753907116721\n",
      "5864.636148433524\n",
      "10456.348707171364\n",
      "14627.203301687427\n",
      "44461.9152510156\n",
      "21819.559701078084\n",
      "24561.27373077979\n",
      "24617.92149049811\n",
      "25418.48085985346\n",
      "25698.179984361057\n",
      "26943.176297346345\n",
      "28680.227582009946\n",
      "30069.14694005092\n",
      "31739.186691922783\n",
      "18733.631322677204\n",
      "34243.18512372116\n",
      "35485.29296574275\n",
      "36313.220215675676\n",
      "37014.805045523775\n",
      "37740.1943955755\n",
      "33067.39929374825\n",
      "40400.88784120259\n",
      "41368.341332911164\n",
      "41690.44491414704\n",
      "42960.36897985716\n",
      "39047.11894975033\n",
      "45161.6118519758\n",
      "46115.67770727146\n",
      "46287.65350474031\n",
      "46190.44421836456\n",
      "44051.79708477497\n",
      "45462.68099927072\n",
      "45559.69427125118\n",
      "45390.86978983194\n",
      "45393.99386494025\n",
      "45916.776581535734\n",
      "45402.762136438854\n",
      "45676.31815793042\n",
      "44809.918315323775\n",
      "45150.483235713175\n"
     ]
    }
   ],
   "source": [
    "for path in path_list:\n",
    "    ir=float(path.split('_')[-1][:-5])\n",
    "    df=pd.read_excel(path,sheet_name='总发电成本变化',header=None)\n",
    "    print(sum(df.sum().tolist())*100/6.94)"
   ]
  }
 ],
 "metadata": {
  "kernelspec": {
   "display_name": "Python 3.9.12 ('plantcv')",
   "language": "python",
   "name": "python3"
  },
  "language_info": {
   "codemirror_mode": {
    "name": "ipython",
    "version": 3
   },
   "file_extension": ".py",
   "mimetype": "text/x-python",
   "name": "python",
   "nbconvert_exporter": "python",
   "pygments_lexer": "ipython3",
   "version": "3.9.12"
  },
  "orig_nbformat": 4,
  "vscode": {
   "interpreter": {
    "hash": "3e8ff35eee59fe97d31dd0a42d8729b171ccaa4d99149318c4c5a9d7ef37df34"
   }
  }
 },
 "nbformat": 4,
 "nbformat_minor": 2
}
