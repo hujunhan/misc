{
 "cells": [
  {
   "cell_type": "code",
   "execution_count": 1,
   "metadata": {},
   "outputs": [],
   "source": [
    "from pyecharts import options as opts\n",
    "from pyecharts.charts import Geo\n",
    "from pyecharts.globals import ChartType, SymbolType\n",
    "import pandas as pd\n",
    "import glob"
   ]
  },
  {
   "cell_type": "code",
   "execution_count": 5,
   "metadata": {},
   "outputs": [],
   "source": [
    "path='./求和_ir_all provinces&only hub_1015/all provinces/求和_all provinces_ir_1.4.xlsx'\n",
    "df1=pd.read_excel(path,sheet_name='综合度电成本')\n",
    "df2=pd.read_excel(path,sheet_name='新能源使用率（后）')"
   ]
  },
  {
   "cell_type": "code",
   "execution_count": 6,
   "metadata": {},
   "outputs": [
    {
     "data": {
      "text/plain": [
       "6203.396702308199"
      ]
     },
     "execution_count": 6,
     "metadata": {},
     "output_type": "execute_result"
    }
   ],
   "source": [
    "a=df1['单位任务总用电成本（前）'][0]\n",
    "b=df2['水总用量'][6]\n",
    "data=a/100000/6.94*b\n",
    "data"
   ]
  },
  {
   "cell_type": "code",
   "execution_count": 10,
   "metadata": {},
   "outputs": [
    {
     "name": "stdout",
     "output_type": "stream",
     "text": [
      "['./求和_ir_all provinces&only hub_1015/only hub/求和_only hub_ir_1.32.xlsx', './求和_ir_all provinces&only hub_1015/only hub/求和_only hub_ir_10.xlsx', './求和_ir_all provinces&only hub_1015/only hub/求和_only hub_ir_3.2.xlsx', './求和_ir_all provinces&only hub_1015/only hub/求和_only hub_ir_3.4.xlsx', './求和_ir_all provinces&only hub_1015/only hub/求和_only hub_ir_3.6.xlsx', './求和_ir_all provinces&only hub_1015/only hub/求和_only hub_ir_3.8.xlsx', './求和_ir_all provinces&only hub_1015/only hub/求和_only hub_ir_4.2.xlsx', './求和_ir_all provinces&only hub_1015/only hub/求和_only hub_ir_4.6.xlsx', './求和_ir_all provinces&only hub_1015/only hub/求和_only hub_ir_4.8.xlsx', './求和_ir_all provinces&only hub_1015/only hub/求和_only hub_ir_5.2.xlsx', './求和_ir_all provinces&only hub_1015/only hub/求和_only hub_ir_5.4.xlsx', './求和_ir_all provinces&only hub_1015/only hub/求和_only hub_ir_5.6.xlsx', './求和_ir_all provinces&only hub_1015/only hub/求和_only hub_ir_5.8.xlsx', './求和_ir_all provinces&only hub_1015/only hub/求和_only hub_ir_5.xlsx', './求和_ir_all provinces&only hub_1015/only hub/求和_only hub_ir_6.2.xlsx', './求和_ir_all provinces&only hub_1015/only hub/求和_only hub_ir_6.4.xlsx', './求和_ir_all provinces&only hub_1015/only hub/求和_only hub_ir_6.6.xlsx', './求和_ir_all provinces&only hub_1015/only hub/求和_only hub_ir_6.8.xlsx', './求和_ir_all provinces&only hub_1015/only hub/求和_only hub_ir_9.5.xlsx', './求和_ir_all provinces&only hub_1015/only hub/求和_only hub_ir_9.xlsx']\n"
     ]
    }
   ],
   "source": [
    "path_list=glob.glob('./求和_ir_all provinces&only hub_1015/only hub/*.xlsx')\n",
    "path_list=sorted(path_list)\n",
    "print(path_list)"
   ]
  },
  {
   "cell_type": "code",
   "execution_count": 28,
   "metadata": {},
   "outputs": [
    {
     "name": "stdout",
     "output_type": "stream",
     "text": [
      "./求和_ir_all provinces&only hub_1015/all provinces/求和_all provinces_ir_1.32.xlsx\n",
      "1.32\n",
      "./求和_ir_all provinces&only hub_1015/all provinces/求和_all provinces_ir_1.4.xlsx\n",
      "1.4\n",
      "./求和_ir_all provinces&only hub_1015/all provinces/求和_all provinces_ir_1.5.xlsx\n",
      "1.5\n",
      "./求和_ir_all provinces&only hub_1015/all provinces/求和_all provinces_ir_1.6.xlsx\n",
      "1.6\n",
      "./求和_ir_all provinces&only hub_1015/all provinces/求和_all provinces_ir_1.7.xlsx\n",
      "1.7\n",
      "./求和_ir_all provinces&only hub_1015/all provinces/求和_all provinces_ir_1.8.xlsx\n",
      "1.8\n",
      "./求和_ir_all provinces&only hub_1015/all provinces/求和_all provinces_ir_1.9.xlsx\n",
      "1.9\n",
      "./求和_ir_all provinces&only hub_1015/all provinces/求和_all provinces_ir_10.xlsx\n",
      "10.0\n",
      "./求和_ir_all provinces&only hub_1015/all provinces/求和_all provinces_ir_2.1.xlsx\n",
      "2.1\n",
      "./求和_ir_all provinces&only hub_1015/all provinces/求和_all provinces_ir_2.2.xlsx\n",
      "2.2\n",
      "./求和_ir_all provinces&only hub_1015/all provinces/求和_all provinces_ir_2.3.xlsx\n",
      "2.3\n",
      "./求和_ir_all provinces&only hub_1015/all provinces/求和_all provinces_ir_2.4.xlsx\n",
      "2.4\n",
      "./求和_ir_all provinces&only hub_1015/all provinces/求和_all provinces_ir_2.5.xlsx\n",
      "2.5\n",
      "./求和_ir_all provinces&only hub_1015/all provinces/求和_all provinces_ir_2.6.xlsx\n",
      "2.6\n",
      "./求和_ir_all provinces&only hub_1015/all provinces/求和_all provinces_ir_2.7.xlsx\n",
      "2.7\n",
      "./求和_ir_all provinces&only hub_1015/all provinces/求和_all provinces_ir_2.8.xlsx\n",
      "2.8\n",
      "./求和_ir_all provinces&only hub_1015/all provinces/求和_all provinces_ir_2.9.xlsx\n",
      "2.9\n",
      "./求和_ir_all provinces&only hub_1015/all provinces/求和_all provinces_ir_2.xlsx\n",
      "2.0\n",
      "./求和_ir_all provinces&only hub_1015/all provinces/求和_all provinces_ir_3.2.xlsx\n",
      "3.2\n",
      "./求和_ir_all provinces&only hub_1015/all provinces/求和_all provinces_ir_3.4.xlsx\n",
      "3.4\n",
      "./求和_ir_all provinces&only hub_1015/all provinces/求和_all provinces_ir_3.5.xlsx\n",
      "3.5\n",
      "./求和_ir_all provinces&only hub_1015/all provinces/求和_all provinces_ir_3.6.xlsx\n",
      "3.6\n",
      "./求和_ir_all provinces&only hub_1015/all provinces/求和_all provinces_ir_3.8.xlsx\n",
      "3.8\n",
      "./求和_ir_all provinces&only hub_1015/all provinces/求和_all provinces_ir_3.xlsx\n",
      "3.0\n",
      "./求和_ir_all provinces&only hub_1015/all provinces/求和_all provinces_ir_4.2.xlsx\n",
      "4.2\n",
      "./求和_ir_all provinces&only hub_1015/all provinces/求和_all provinces_ir_4.5.xlsx\n",
      "4.5\n",
      "./求和_ir_all provinces&only hub_1015/all provinces/求和_all provinces_ir_4.6.xlsx\n",
      "4.6\n",
      "./求和_ir_all provinces&only hub_1015/all provinces/求和_all provinces_ir_4.8.xlsx\n",
      "4.8\n",
      "./求和_ir_all provinces&only hub_1015/all provinces/求和_all provinces_ir_4.xlsx\n",
      "4.0\n",
      "./求和_ir_all provinces&only hub_1015/all provinces/求和_all provinces_ir_5.2.xlsx\n",
      "5.2\n",
      "./求和_ir_all provinces&only hub_1015/all provinces/求和_all provinces_ir_5.4.xlsx\n",
      "5.4\n",
      "./求和_ir_all provinces&only hub_1015/all provinces/求和_all provinces_ir_5.6.xlsx\n",
      "5.6\n",
      "./求和_ir_all provinces&only hub_1015/all provinces/求和_all provinces_ir_5.8.xlsx\n",
      "5.8\n",
      "./求和_ir_all provinces&only hub_1015/all provinces/求和_all provinces_ir_5.xlsx\n",
      "5.0\n",
      "./求和_ir_all provinces&only hub_1015/all provinces/求和_all provinces_ir_6.2.xlsx\n",
      "6.2\n",
      "./求和_ir_all provinces&only hub_1015/all provinces/求和_all provinces_ir_6.4.xlsx\n",
      "6.4\n",
      "./求和_ir_all provinces&only hub_1015/all provinces/求和_all provinces_ir_6.6.xlsx\n",
      "6.6\n",
      "./求和_ir_all provinces&only hub_1015/all provinces/求和_all provinces_ir_6.8.xlsx\n",
      "6.8\n",
      "./求和_ir_all provinces&only hub_1015/all provinces/求和_all provinces_ir_6.xlsx\n",
      "6.0\n",
      "./求和_ir_all provinces&only hub_1015/all provinces/求和_all provinces_ir_7.xlsx\n",
      "7.0\n",
      "./求和_ir_all provinces&only hub_1015/all provinces/求和_all provinces_ir_8.xlsx\n",
      "8.0\n",
      "./求和_ir_all provinces&only hub_1015/all provinces/求和_all provinces_ir_9.5.xlsx\n",
      "9.5\n",
      "./求和_ir_all provinces&only hub_1015/all provinces/求和_all provinces_ir_9.xlsx\n",
      "9.0\n"
     ]
    }
   ],
   "source": [
    "for path in path_list:\n",
    "    print(path)\n",
    "    ir=float(path.split('_')[-1][:-5])\n",
    "    print(ir)"
   ]
  },
  {
   "cell_type": "code",
   "execution_count": 11,
   "metadata": {},
   "outputs": [
    {
     "name": "stdout",
     "output_type": "stream",
     "text": [
      "5652.925505958675\n",
      "17981.37867627064\n",
      "8506.480406022862\n",
      "9357.368616626558\n",
      "10006.716468290735\n",
      "10649.630264747517\n",
      "11640.339651514754\n",
      "12254.783809473043\n",
      "12472.41004266938\n",
      "12910.562301951048\n",
      "13266.03394358553\n",
      "13595.338222567576\n",
      "13816.261914353192\n",
      "12676.463846747452\n",
      "14292.983185235651\n",
      "14584.590490260574\n",
      "14842.711792559323\n",
      "15059.803008871439\n",
      "17694.776708560894\n",
      "17327.45545446742\n"
     ]
    }
   ],
   "source": [
    "for path in path_list:\n",
    "    ir=float(path.split('_')[-1][:-5])\n",
    "    df1=pd.read_excel(path,sheet_name='综合度电成本')\n",
    "    df2=pd.read_excel(path,sheet_name='新能源使用率（后）')\n",
    "    a=df1['单位任务总用电成本（前）'][0]\n",
    "    b=df2['水总用量'][6]\n",
    "    data=a/100000/6.94*b\n",
    "    print(data)"
   ]
  }
 ],
 "metadata": {
  "kernelspec": {
   "display_name": "Python 3.9.12 ('plantcv')",
   "language": "python",
   "name": "python3"
  },
  "language_info": {
   "codemirror_mode": {
    "name": "ipython",
    "version": 3
   },
   "file_extension": ".py",
   "mimetype": "text/x-python",
   "name": "python",
   "nbconvert_exporter": "python",
   "pygments_lexer": "ipython3",
   "version": "3.9.12"
  },
  "orig_nbformat": 4,
  "vscode": {
   "interpreter": {
    "hash": "3e8ff35eee59fe97d31dd0a42d8729b171ccaa4d99149318c4c5a9d7ef37df34"
   }
  }
 },
 "nbformat": 4,
 "nbformat_minor": 2
}
