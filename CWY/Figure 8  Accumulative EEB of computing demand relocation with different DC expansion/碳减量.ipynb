{
 "cells": [
  {
   "cell_type": "code",
   "execution_count": 1,
   "metadata": {},
   "outputs": [],
   "source": [
    "from pyecharts import options as opts\n",
    "from pyecharts.charts import Geo\n",
    "from pyecharts.globals import ChartType, SymbolType\n",
    "import pandas as pd\n",
    "import glob"
   ]
  },
  {
   "cell_type": "code",
   "execution_count": 2,
   "metadata": {},
   "outputs": [],
   "source": [
    "path='./求和_ir_all provinces&only hub_1015/all provinces/求和_all provinces_ir_1.4.xlsx'\n",
    "df=pd.read_excel(path,sheet_name='新能源使用率（后）')"
   ]
  },
  {
   "cell_type": "code",
   "execution_count": 3,
   "metadata": {},
   "outputs": [
    {
     "data": {
      "text/plain": [
       "28440.84845310185"
      ]
     },
     "execution_count": 3,
     "metadata": {},
     "output_type": "execute_result"
    }
   ],
   "source": [
    "df['水总用量'][8]"
   ]
  },
  {
   "cell_type": "code",
   "execution_count": 17,
   "metadata": {},
   "outputs": [
    {
     "name": "stdout",
     "output_type": "stream",
     "text": [
      "['./求和_ir_all provinces&only hub_1015/only hub/求和_only hub_ir_1.32.xlsx', './求和_ir_all provinces&only hub_1015/only hub/求和_only hub_ir_10.xlsx', './求和_ir_all provinces&only hub_1015/only hub/求和_only hub_ir_3.2.xlsx', './求和_ir_all provinces&only hub_1015/only hub/求和_only hub_ir_3.4.xlsx', './求和_ir_all provinces&only hub_1015/only hub/求和_only hub_ir_3.6.xlsx', './求和_ir_all provinces&only hub_1015/only hub/求和_only hub_ir_3.8.xlsx', './求和_ir_all provinces&only hub_1015/only hub/求和_only hub_ir_4.2.xlsx', './求和_ir_all provinces&only hub_1015/only hub/求和_only hub_ir_4.6.xlsx', './求和_ir_all provinces&only hub_1015/only hub/求和_only hub_ir_4.8.xlsx', './求和_ir_all provinces&only hub_1015/only hub/求和_only hub_ir_5.2.xlsx', './求和_ir_all provinces&only hub_1015/only hub/求和_only hub_ir_5.4.xlsx', './求和_ir_all provinces&only hub_1015/only hub/求和_only hub_ir_5.6.xlsx', './求和_ir_all provinces&only hub_1015/only hub/求和_only hub_ir_5.8.xlsx', './求和_ir_all provinces&only hub_1015/only hub/求和_only hub_ir_5.xlsx', './求和_ir_all provinces&only hub_1015/only hub/求和_only hub_ir_6.2.xlsx', './求和_ir_all provinces&only hub_1015/only hub/求和_only hub_ir_6.4.xlsx', './求和_ir_all provinces&only hub_1015/only hub/求和_only hub_ir_6.6.xlsx', './求和_ir_all provinces&only hub_1015/only hub/求和_only hub_ir_6.8.xlsx', './求和_ir_all provinces&only hub_1015/only hub/求和_only hub_ir_9.5.xlsx', './求和_ir_all provinces&only hub_1015/only hub/求和_only hub_ir_9.xlsx']\n"
     ]
    }
   ],
   "source": [
    "path_list=glob.glob('./求和_ir_all provinces&only hub_1015/only hub/*.xlsx')\n",
    "path_list=sorted(path_list)\n",
    "print(path_list)"
   ]
  },
  {
   "cell_type": "code",
   "execution_count": 18,
   "metadata": {},
   "outputs": [
    {
     "name": "stdout",
     "output_type": "stream",
     "text": [
      "1.32\n",
      "10.0\n",
      "3.2\n",
      "3.4\n",
      "3.6\n",
      "3.8\n",
      "4.2\n",
      "4.6\n",
      "4.8\n",
      "5.2\n",
      "5.4\n",
      "5.6\n",
      "5.8\n",
      "5.0\n",
      "6.2\n",
      "6.4\n",
      "6.6\n",
      "6.8\n",
      "9.5\n",
      "9.0\n"
     ]
    }
   ],
   "source": [
    "for path in path_list:\n",
    "    ir=float(path.split('_')[-1][:-5])\n",
    "    print(ir)"
   ]
  },
  {
   "cell_type": "code",
   "execution_count": 19,
   "metadata": {},
   "outputs": [
    {
     "name": "stdout",
     "output_type": "stream",
     "text": [
      "25917.09112715991\n",
      "82439.61984881034\n",
      "38999.84664965199\n",
      "42900.93242727224\n",
      "45878.01171605229\n",
      "48825.59265128933\n",
      "53367.7196314368\n",
      "56184.77519276875\n",
      "57182.53094091455\n",
      "59191.33718104709\n",
      "60821.0757862437\n",
      "62330.84431192926\n",
      "63343.7179905442\n",
      "58118.06087661963\n",
      "65529.352421193\n",
      "66866.29080640785\n",
      "68049.70518299681\n",
      "69045.00802753921\n",
      "81125.6295429894\n",
      "79441.56376054668\n"
     ]
    }
   ],
   "source": [
    "for path in path_list:\n",
    "    ir=float(path.split('_')[-1][:-5])\n",
    "    df=pd.read_excel(path,sheet_name='新能源使用率（后）')\n",
    "    print(df['水总用量'][8])"
   ]
  }
 ],
 "metadata": {
  "kernelspec": {
   "display_name": "Python 3.9.12 ('plantcv')",
   "language": "python",
   "name": "python3"
  },
  "language_info": {
   "codemirror_mode": {
    "name": "ipython",
    "version": 3
   },
   "file_extension": ".py",
   "mimetype": "text/x-python",
   "name": "python",
   "nbconvert_exporter": "python",
   "pygments_lexer": "ipython3",
   "version": "3.9.12"
  },
  "orig_nbformat": 4,
  "vscode": {
   "interpreter": {
    "hash": "3e8ff35eee59fe97d31dd0a42d8729b171ccaa4d99149318c4c5a9d7ef37df34"
   }
  }
 },
 "nbformat": 4,
 "nbformat_minor": 2
}
