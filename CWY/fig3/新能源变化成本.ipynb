{
 "cells": [
  {
   "cell_type": "code",
   "execution_count": 1,
   "metadata": {},
   "outputs": [],
   "source": [
    "from pyecharts import options as opts\n",
    "from pyecharts.charts import Geo\n",
    "from pyecharts.globals import ChartType, SymbolType\n",
    "import pandas as pd\n",
    "import glob"
   ]
  },
  {
   "cell_type": "code",
   "execution_count": 2,
   "metadata": {},
   "outputs": [],
   "source": [
    "path='./各省度电成本.xlsx'\n",
    "prov=pd.read_excel(path,sheet_name='Sheet1')"
   ]
  },
  {
   "cell_type": "code",
   "execution_count": 3,
   "metadata": {},
   "outputs": [
    {
     "data": {
      "text/plain": [
       "0.18"
      ]
     },
     "execution_count": 3,
     "metadata": {},
     "output_type": "execute_result"
    }
   ],
   "source": [
    "prov['水电成本'][0]"
   ]
  },
  {
   "cell_type": "code",
   "execution_count": 11,
   "metadata": {},
   "outputs": [
    {
     "data": {
      "text/plain": [
       "58.8633344457229"
      ]
     },
     "execution_count": 11,
     "metadata": {},
     "output_type": "execute_result"
    }
   ],
   "source": [
    "path='./8HN-b/2022.xlsx'\n",
    "df=pd.read_excel(path,sheet_name='发电矩阵前后变化',header=None)\n",
    "df[1][3]\n"
   ]
  },
  {
   "cell_type": "code",
   "execution_count": 5,
   "metadata": {},
   "outputs": [
    {
     "data": {
      "text/plain": [
       "5765.88519390121"
      ]
     },
     "execution_count": 5,
     "metadata": {},
     "output_type": "execute_result"
    }
   ],
   "source": [
    "df['水总用量'][8]"
   ]
  },
  {
   "cell_type": "code",
   "execution_count": 10,
   "metadata": {},
   "outputs": [
    {
     "name": "stdout",
     "output_type": "stream",
     "text": [
      "['./8HN-c/result_year_2022_承诺_only hub,L_0,mode_profit and carbon,cons_equality,outRate_0.5_ir_1_carbon price_58.xlsx', './8HN-c/result_year_2023_承诺_only hub,L_0,mode_profit and carbon,cons_equality,outRate_0.5_ir_1_carbon price_62.xlsx', './8HN-c/result_year_2024_承诺_only hub,L_0,mode_profit and carbon,cons_equality,outRate_0.5_ir_1_carbon price_67.xlsx', './8HN-c/result_year_2025_承诺_only hub,L_0,mode_profit and carbon,cons_equality,outRate_0.5_ir_1_carbon price_74.xlsx', './8HN-c/result_year_2026_承诺_only hub,L_0,mode_profit and carbon,cons_equality,outRate_0.5_ir_1_carbon price_83.xlsx', './8HN-c/result_year_2027_承诺_only hub,L_0,mode_profit and carbon,cons_equality,outRate_0.5_ir_1_carbon price_96.xlsx', './8HN-c/result_year_2028_承诺_only hub,L_0,mode_profit and carbon,cons_equality,outRate_0.5_ir_1_carbon price_112.xlsx', './8HN-c/result_year_2029_承诺_only hub,L_0,mode_profit and carbon,cons_equality,outRate_0.5_ir_1_carbon price_133.xlsx', './8HN-c/result_year_2030_承诺_only hub,L_0,mode_profit and carbon,cons_equality,outRate_0.5_ir_1_carbon price_161.xlsx']\n"
     ]
    }
   ],
   "source": [
    "path_list=glob.glob('./8HN-c/*.xlsx')\n",
    "path_list=sorted(path_list)\n",
    "print(path_list)"
   ]
  },
  {
   "cell_type": "code",
   "execution_count": 12,
   "metadata": {},
   "outputs": [
    {
     "name": "stdout",
     "output_type": "stream",
     "text": [
      "['./FCM-c/result_year_2022_承诺_all provinces,L_0,mode_profit and carbon,cons_equality,outRate_0.5_ir_1_carbon price_58.xlsx', './FCM-c/result_year_2023_承诺_all provinces,L_0,mode_profit and carbon,cons_equality,outRate_0.5_ir_1_carbon price_62.xlsx', './FCM-c/result_year_2024_承诺_all provinces,L_0,mode_profit and carbon,cons_equality,outRate_0.5_ir_1_carbon price_67.xlsx', './FCM-c/result_year_2025_承诺_all provinces,L_0,mode_profit and carbon,cons_equality,outRate_0.5_ir_1_carbon price_74.xlsx', './FCM-c/result_year_2026_承诺_all provinces,L_0,mode_profit and carbon,cons_equality,outRate_0.5_ir_1_carbon price_83.xlsx', './FCM-c/result_year_2027_承诺_all provinces,L_0,mode_profit and carbon,cons_equality,outRate_0.5_ir_1_carbon price_96.xlsx', './FCM-c/result_year_2028_承诺_all provinces,L_0,mode_profit and carbon,cons_equality,outRate_0.5_ir_1_carbon price_112.xlsx', './FCM-c/result_year_2029_承诺_all provinces,L_0,mode_profit and carbon,cons_equality,outRate_0.5_ir_1_carbon price_133.xlsx', './FCM-c/result_year_2030_承诺_all provinces,L_0,mode_profit and carbon,cons_equality,outRate_0.5_ir_1_carbon price_161.xlsx']\n",
      "['./8HN-c/result_year_2022_承诺_only hub,L_0,mode_profit and carbon,cons_equality,outRate_0.5_ir_1_carbon price_58.xlsx', './8HN-c/result_year_2023_承诺_only hub,L_0,mode_profit and carbon,cons_equality,outRate_0.5_ir_1_carbon price_62.xlsx', './8HN-c/result_year_2024_承诺_only hub,L_0,mode_profit and carbon,cons_equality,outRate_0.5_ir_1_carbon price_67.xlsx', './8HN-c/result_year_2025_承诺_only hub,L_0,mode_profit and carbon,cons_equality,outRate_0.5_ir_1_carbon price_74.xlsx', './8HN-c/result_year_2026_承诺_only hub,L_0,mode_profit and carbon,cons_equality,outRate_0.5_ir_1_carbon price_83.xlsx', './8HN-c/result_year_2027_承诺_only hub,L_0,mode_profit and carbon,cons_equality,outRate_0.5_ir_1_carbon price_96.xlsx', './8HN-c/result_year_2028_承诺_only hub,L_0,mode_profit and carbon,cons_equality,outRate_0.5_ir_1_carbon price_112.xlsx', './8HN-c/result_year_2029_承诺_only hub,L_0,mode_profit and carbon,cons_equality,outRate_0.5_ir_1_carbon price_133.xlsx', './8HN-c/result_year_2030_承诺_only hub,L_0,mode_profit and carbon,cons_equality,outRate_0.5_ir_1_carbon price_161.xlsx']\n",
      "['./FCM-b/2022.xlsx', './FCM-b/2023.xlsx', './FCM-b/2024.xlsx', './FCM-b/2025.xlsx', './FCM-b/2026.xlsx', './FCM-b/2027.xlsx', './FCM-b/2028.xlsx', './FCM-b/2029.xlsx', './FCM-b/2030.xlsx']\n",
      "['./8HN-b/2022.xlsx', './8HN-b/2023.xlsx', './8HN-b/2024.xlsx', './8HN-b/2025.xlsx', './8HN-b/2026.xlsx', './8HN-b/2027.xlsx', './8HN-b/2028.xlsx', './8HN-b/2029.xlsx', './8HN-b/2030.xlsx']\n"
     ]
    }
   ],
   "source": [
    "kind=['FCM-c','8HN-c','FCM-b','8HN-b']\n",
    "for k in kind:\n",
    "    path_list=glob.glob(f'./{k}/*.xlsx')\n",
    "    path_list=sorted(path_list)\n",
    "    print(path_list)"
   ]
  },
  {
   "cell_type": "code",
   "execution_count": 13,
   "metadata": {},
   "outputs": [
    {
     "name": "stdout",
     "output_type": "stream",
     "text": [
      "FCM-c\n",
      "3198.8889096534604\n",
      "3503.8975275873595\n",
      "3945.8811100072685\n",
      "4235.1975934543425\n",
      "4793.431087547447\n",
      "5421.753187360665\n",
      "6050.366336220857\n",
      "6933.527005271216\n",
      "7647.875907945556\n",
      "--------\n",
      "8HN-c\n",
      "2715.59246933291\n",
      "3064.797390014742\n",
      "3217.325592923227\n",
      "3379.6550523614937\n",
      "3735.89281455515\n",
      "4105.914641907251\n",
      "4490.445001360302\n",
      "5011.756631552309\n",
      "5657.330594480373\n",
      "--------\n",
      "FCM-b\n",
      "3258.667716703404\n",
      "3493.4606822670353\n",
      "3766.567897893804\n",
      "4133.981571617349\n",
      "4753.921719389697\n",
      "5402.212173620224\n",
      "6167.345812248399\n",
      "7029.329823279492\n",
      "8153.011576388387\n",
      "--------\n",
      "8HN-b\n",
      "2617.347113340036\n",
      "2780.050325194251\n",
      "2964.6267272978475\n",
      "2723.3544458244046\n",
      "3054.135107661274\n",
      "3579.3896983255054\n",
      "4020.5756856637067\n",
      "4377.131485056956\n",
      "4829.20169063492\n",
      "--------\n"
     ]
    }
   ],
   "source": [
    "for k in kind:\n",
    "    path_list=glob.glob(f'./{k}/*.xlsx')\n",
    "    path_list=sorted(path_list)\n",
    "    print(k)\n",
    "    for path in path_list:\n",
    "        df=pd.read_excel(path,sheet_name='发电矩阵前后变化',header=None)\n",
    "        data=0\n",
    "        for i in range(31):\n",
    "            data+=prov['水电成本'][i]*df[1][i]\n",
    "            data+=prov['光电成本（集中式）'][i]*df[2][i]\n",
    "            data+=prov['风电成本'][i]*df[3][i]\n",
    "            data+=prov['核电'][i]*df[4][i]\n",
    "        data=data*100/6.94\n",
    "        print(data)\n",
    "    print('--------')"
   ]
  },
  {
   "cell_type": "code",
   "execution_count": null,
   "metadata": {},
   "outputs": [
    {
     "name": "stdout",
     "output_type": "stream",
     "text": [
      "FCM-c\n",
      "6812.931228935558\n",
      "7622.136148407628\n",
      "8760.060541312641\n",
      "9498.238415315707\n",
      "10804.783149635563\n",
      "12252.269588758207\n",
      "13999.346584580067\n",
      "16086.283655759305\n",
      "18318.250592534852\n",
      "--------\n",
      "8HN-c\n",
      "5776.38882694002\n",
      "6628.346518884633\n",
      "7078.867281854289\n",
      "7456.157029474207\n",
      "8461.525754377784\n",
      "9615.77224579573\n",
      "10943.107027779331\n",
      "12472.14762026357\n",
      "14236.841841613545\n",
      "--------\n",
      "FCM-b\n",
      "7590.82997709339\n",
      "8044.5745440108\n",
      "8584.31034148089\n",
      "8923.99088355353\n",
      "10209.9648326393\n",
      "11603.689635924\n",
      "13195.9301565043\n",
      "15042.2689259786\n",
      "17319.3756491692\n",
      "--------\n",
      "8HN-b\n",
      "5765.88519390121\n",
      "6119.480034932\n",
      "6497.71433214786\n",
      "5428.13433594594\n",
      "6092.0383911206\n",
      "7114.82351136536\n",
      "8010.63558271838\n",
      "8697.27661734506\n",
      "9617.7299910678\n",
      "--------\n"
     ]
    }
   ],
   "source": [
    "for k in kind:\n",
    "    path_list=glob.glob(f'./{k}/*.xlsx')\n",
    "    path_list=sorted(path_list)\n",
    "    print(k)\n",
    "    for path in path_list:\n",
    "        df=pd.read_excel(path,sheet_name='新能源使用率（后）')\n",
    "        print(df['水总用量'][8])\n",
    "    print('--------')"
   ]
  }
 ],
 "metadata": {
  "kernelspec": {
   "display_name": "Python 3.9.12 ('plantcv')",
   "language": "python",
   "name": "python3"
  },
  "language_info": {
   "codemirror_mode": {
    "name": "ipython",
    "version": 3
   },
   "file_extension": ".py",
   "mimetype": "text/x-python",
   "name": "python",
   "nbconvert_exporter": "python",
   "pygments_lexer": "ipython3",
   "version": "3.9.12"
  },
  "orig_nbformat": 4,
  "vscode": {
   "interpreter": {
    "hash": "3e8ff35eee59fe97d31dd0a42d8729b171ccaa4d99149318c4c5a9d7ef37df34"
   }
  }
 },
 "nbformat": 4,
 "nbformat_minor": 2
}
