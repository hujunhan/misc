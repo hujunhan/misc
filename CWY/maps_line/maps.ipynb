{
 "cells": [
  {
   "cell_type": "code",
   "execution_count": 1,
   "metadata": {},
   "outputs": [],
   "source": [
    "from pyecharts import options as opts\n",
    "from pyecharts.charts import Geo\n",
    "from pyecharts.globals import ChartType, SymbolType\n",
    "import pandas as pd"
   ]
  },
  {
   "cell_type": "code",
   "execution_count": 2,
   "metadata": {},
   "outputs": [],
   "source": [
    "df=pd.read_excel('hub.xlsx',sheet_name='任务传输矩阵')\n",
    "df = df.reset_index()"
   ]
  },
  {
   "cell_type": "code",
   "execution_count": 3,
   "metadata": {},
   "outputs": [],
   "source": [
    "c = (\n",
    "    Geo()\n",
    "    .add_schema('china')\n",
    "    # .set_series_opts(label_opts=opts.LabelOpts(is_show=False))\n",
    "    # .set_global_opts(title_opts=opts.TitleOpts(title=\"Geo-Lines\"))\n",
    "    \n",
    ")"
   ]
  },
  {
   "cell_type": "code",
   "execution_count": null,
   "metadata": {},
   "outputs": [],
   "source": []
  },
  {
   "cell_type": "code",
   "execution_count": 4,
   "metadata": {},
   "outputs": [],
   "source": [
    "for index, row in df.iterrows():\n",
    "    start_pos=row['start']\n",
    "    i=0\n",
    "    for x, value in row.iteritems():\n",
    "        if i>=2 and float(value)!=0:\n",
    "            # print(f'from {start_pos} to {x} {value}')\n",
    "            c.add(\n",
    "                \"\",\n",
    "                [(start_pos, x)],\n",
    "                type_=ChartType.LINES,\n",
    "                color='green',\n",
    "                effect_opts=opts.EffectOpts(is_show=False),\n",
    "                symbol_size=min(10,value*4),\n",
    "                linestyle_opts=opts.LineStyleOpts(curve=0.2,width=max(0.5,value/4),color='green'),\n",
    "            )\n",
    "        i=i+1\n",
    "        "
   ]
  },
  {
   "cell_type": "code",
   "execution_count": 5,
   "metadata": {},
   "outputs": [],
   "source": [
    "df=pd.read_excel('dataloader.xlsx',sheet_name='输电变化')\n",
    "df = df.reset_index()\n",
    "for index, row in df.iterrows():\n",
    "    start_pos=row['start']\n",
    "    i=0\n",
    "    for x, value in row.iteritems():\n",
    "        if i>=2 and float(value)!=0:\n",
    "            # print(f'from {start_pos} to {x} {value}')\n",
    "            color=None\n",
    "            if value<0:\n",
    "                color='gray'\n",
    "                start,x=x,start_pos\n",
    "                value=-value\n",
    "            else:\n",
    "                color='red'\n",
    "                start,x=start_pos,x\n",
    "            c.add(\n",
    "                \"\",\n",
    "                [(start, x)],\n",
    "                type_=ChartType.LINES,\n",
    "                color=color,\n",
    "                effect_opts=opts.EffectOpts(is_show=False),\n",
    "                symbol_size=min(10,value*4),\n",
    "                linestyle_opts=opts.LineStyleOpts(curve=0.2,width=max(0.5,value/4),color=color),\n",
    "            )\n",
    "        i=i+1"
   ]
  },
  {
   "cell_type": "code",
   "execution_count": 6,
   "metadata": {},
   "outputs": [
    {
     "data": {
      "text/plain": [
       "'/Users/hu/Code/test/maps_line/geo_lines.html'"
      ]
     },
     "execution_count": 6,
     "metadata": {},
     "output_type": "execute_result"
    }
   ],
   "source": [
    "\n",
    "c.set_series_opts(label_opts=opts.LabelOpts(is_show=False))\n",
    "c.render('geo_lines.html')"
   ]
  },
  {
   "cell_type": "code",
   "execution_count": 7,
   "metadata": {},
   "outputs": [],
   "source": [
    "from pyecharts.render import make_snapshot\n",
    "from snapshot_selenium import snapshot\n",
    "make_snapshot(snapshot, c.render(), \"hub.png\")"
   ]
  }
 ],
 "metadata": {
  "interpreter": {
   "hash": "3e8ff35eee59fe97d31dd0a42d8729b171ccaa4d99149318c4c5a9d7ef37df34"
  },
  "kernelspec": {
   "display_name": "Python 3.9.12 ('plantcv')",
   "language": "python",
   "name": "python3"
  },
  "language_info": {
   "codemirror_mode": {
    "name": "ipython",
    "version": 3
   },
   "file_extension": ".py",
   "mimetype": "text/x-python",
   "name": "python",
   "nbconvert_exporter": "python",
   "pygments_lexer": "ipython3",
   "version": "3.9.12"
  },
  "orig_nbformat": 4
 },
 "nbformat": 4,
 "nbformat_minor": 2
}
