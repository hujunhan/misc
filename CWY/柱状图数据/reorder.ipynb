{
 "cells": [
  {
   "cell_type": "code",
   "execution_count": 13,
   "metadata": {},
   "outputs": [],
   "source": [
    "from pyecharts import options as opts\n",
    "from pyecharts.charts import Geo\n",
    "from pyecharts.globals import ChartType, SymbolType\n",
    "import pandas as pd"
   ]
  },
  {
   "cell_type": "code",
   "execution_count": 14,
   "metadata": {},
   "outputs": [
    {
     "name": "stdout",
     "output_type": "stream",
     "text": [
      "['北京', '天津', '上海', '重庆', '内蒙古', '新疆', '西藏', '宁夏', '广西', '黑龙江', '吉林', '辽宁', '河北', '河南', '山东', '山西', '甘肃', '陕西', '青海', '四川', '湖北', '安徽', '江苏', '浙江', '福建', '江西', '湖南', '贵州', '云南', '广东', '海南']\n"
     ]
    }
   ],
   "source": [
    "order_file=pd.read_excel('柱状图-省份顺序模板.xlsx',sheet_name='Sheet1')\n",
    "p_order=order_file['省份'].values.tolist()\n",
    "print(p_order)"
   ]
  },
  {
   "cell_type": "code",
   "execution_count": 10,
   "metadata": {},
   "outputs": [],
   "source": [
    "file='all provinces'\n",
    "path=f'./{file}.xlsx'\n",
    "df=pd.read_excel(path,sheet_name='Sheet1')\n",
    "df.set_index('省份',inplace=True)"
   ]
  },
  {
   "cell_type": "code",
   "execution_count": 11,
   "metadata": {},
   "outputs": [
    {
     "data": {
      "text/html": [
       "<div>\n",
       "<style scoped>\n",
       "    .dataframe tbody tr th:only-of-type {\n",
       "        vertical-align: middle;\n",
       "    }\n",
       "\n",
       "    .dataframe tbody tr th {\n",
       "        vertical-align: top;\n",
       "    }\n",
       "\n",
       "    .dataframe thead th {\n",
       "        text-align: right;\n",
       "    }\n",
       "</style>\n",
       "<table border=\"1\" class=\"dataframe\">\n",
       "  <thead>\n",
       "    <tr style=\"text-align: right;\">\n",
       "      <th></th>\n",
       "      <th>2020</th>\n",
       "      <th>2021</th>\n",
       "      <th>2022</th>\n",
       "      <th>2023</th>\n",
       "      <th>2024</th>\n",
       "      <th>2025</th>\n",
       "      <th>2026</th>\n",
       "      <th>2027</th>\n",
       "      <th>2028</th>\n",
       "      <th>2029</th>\n",
       "      <th>2030</th>\n",
       "    </tr>\n",
       "    <tr>\n",
       "      <th>省份</th>\n",
       "      <th></th>\n",
       "      <th></th>\n",
       "      <th></th>\n",
       "      <th></th>\n",
       "      <th></th>\n",
       "      <th></th>\n",
       "      <th></th>\n",
       "      <th></th>\n",
       "      <th></th>\n",
       "      <th></th>\n",
       "      <th></th>\n",
       "    </tr>\n",
       "  </thead>\n",
       "  <tbody>\n",
       "    <tr>\n",
       "      <th>北京</th>\n",
       "      <td>205.681784</td>\n",
       "      <td>292.689438</td>\n",
       "      <td>292.689438</td>\n",
       "      <td>292.689438</td>\n",
       "      <td>292.689438</td>\n",
       "      <td>307.484110</td>\n",
       "      <td>332.082839</td>\n",
       "      <td>358.649466</td>\n",
       "      <td>387.341423</td>\n",
       "      <td>418.328737</td>\n",
       "      <td>451.795036</td>\n",
       "    </tr>\n",
       "    <tr>\n",
       "      <th>天津</th>\n",
       "      <td>11.263393</td>\n",
       "      <td>33.473910</td>\n",
       "      <td>44.631881</td>\n",
       "      <td>59.509174</td>\n",
       "      <td>59.509174</td>\n",
       "      <td>59.509174</td>\n",
       "      <td>59.509174</td>\n",
       "      <td>59.509174</td>\n",
       "      <td>59.509174</td>\n",
       "      <td>59.509174</td>\n",
       "      <td>59.509174</td>\n",
       "    </tr>\n",
       "    <tr>\n",
       "      <th>上海</th>\n",
       "      <td>92.922994</td>\n",
       "      <td>142.371111</td>\n",
       "      <td>189.828149</td>\n",
       "      <td>189.828149</td>\n",
       "      <td>189.828149</td>\n",
       "      <td>189.828149</td>\n",
       "      <td>192.919042</td>\n",
       "      <td>222.821493</td>\n",
       "      <td>257.358825</td>\n",
       "      <td>297.249442</td>\n",
       "      <td>343.323106</td>\n",
       "    </tr>\n",
       "    <tr>\n",
       "      <th>重庆</th>\n",
       "      <td>8.447545</td>\n",
       "      <td>29.777130</td>\n",
       "      <td>39.702840</td>\n",
       "      <td>52.937120</td>\n",
       "      <td>70.582826</td>\n",
       "      <td>74.955052</td>\n",
       "      <td>74.955052</td>\n",
       "      <td>74.955052</td>\n",
       "      <td>74.955052</td>\n",
       "      <td>74.955052</td>\n",
       "      <td>74.955052</td>\n",
       "    </tr>\n",
       "    <tr>\n",
       "      <th>内蒙古</th>\n",
       "      <td>15.205581</td>\n",
       "      <td>38.848694</td>\n",
       "      <td>51.798259</td>\n",
       "      <td>69.064346</td>\n",
       "      <td>92.085794</td>\n",
       "      <td>122.781059</td>\n",
       "      <td>163.708079</td>\n",
       "      <td>218.277438</td>\n",
       "      <td>291.036584</td>\n",
       "      <td>291.036584</td>\n",
       "      <td>291.036584</td>\n",
       "    </tr>\n",
       "  </tbody>\n",
       "</table>\n",
       "</div>"
      ],
      "text/plain": [
       "           2020        2021        2022        2023        2024        2025  \\\n",
       "省份                                                                            \n",
       "北京   205.681784  292.689438  292.689438  292.689438  292.689438  307.484110   \n",
       "天津    11.263393   33.473910   44.631881   59.509174   59.509174   59.509174   \n",
       "上海    92.922994  142.371111  189.828149  189.828149  189.828149  189.828149   \n",
       "重庆     8.447545   29.777130   39.702840   52.937120   70.582826   74.955052   \n",
       "内蒙古   15.205581   38.848694   51.798259   69.064346   92.085794  122.781059   \n",
       "\n",
       "           2026        2027        2028        2029        2030  \n",
       "省份                                                               \n",
       "北京   332.082839  358.649466  387.341423  418.328737  451.795036  \n",
       "天津    59.509174   59.509174   59.509174   59.509174   59.509174  \n",
       "上海   192.919042  222.821493  257.358825  297.249442  343.323106  \n",
       "重庆    74.955052   74.955052   74.955052   74.955052   74.955052  \n",
       "内蒙古  163.708079  218.277438  291.036584  291.036584  291.036584  "
      ]
     },
     "execution_count": 11,
     "metadata": {},
     "output_type": "execute_result"
    }
   ],
   "source": [
    "df.head()"
   ]
  },
  {
   "cell_type": "code",
   "execution_count": 12,
   "metadata": {},
   "outputs": [
    {
     "ename": "KeyError",
     "evalue": "'省份'",
     "output_type": "error",
     "traceback": [
      "\u001b[0;31m---------------------------------------------------------------------------\u001b[0m",
      "\u001b[0;31mKeyError\u001b[0m                                  Traceback (most recent call last)",
      "File \u001b[0;32m/opt/homebrew/Caskroom/miniforge/base/envs/plantcv/lib/python3.9/site-packages/pandas/core/indexes/base.py:3621\u001b[0m, in \u001b[0;36mIndex.get_loc\u001b[0;34m(self, key, method, tolerance)\u001b[0m\n\u001b[1;32m   3620\u001b[0m \u001b[39mtry\u001b[39;00m:\n\u001b[0;32m-> 3621\u001b[0m     \u001b[39mreturn\u001b[39;00m \u001b[39mself\u001b[39;49m\u001b[39m.\u001b[39;49m_engine\u001b[39m.\u001b[39;49mget_loc(casted_key)\n\u001b[1;32m   3622\u001b[0m \u001b[39mexcept\u001b[39;00m \u001b[39mKeyError\u001b[39;00m \u001b[39mas\u001b[39;00m err:\n",
      "File \u001b[0;32mpandas/_libs/index.pyx:136\u001b[0m, in \u001b[0;36mpandas._libs.index.IndexEngine.get_loc\u001b[0;34m()\u001b[0m\n",
      "File \u001b[0;32mpandas/_libs/index.pyx:163\u001b[0m, in \u001b[0;36mpandas._libs.index.IndexEngine.get_loc\u001b[0;34m()\u001b[0m\n",
      "File \u001b[0;32mpandas/_libs/hashtable_class_helper.pxi:5198\u001b[0m, in \u001b[0;36mpandas._libs.hashtable.PyObjectHashTable.get_item\u001b[0;34m()\u001b[0m\n",
      "File \u001b[0;32mpandas/_libs/hashtable_class_helper.pxi:5206\u001b[0m, in \u001b[0;36mpandas._libs.hashtable.PyObjectHashTable.get_item\u001b[0;34m()\u001b[0m\n",
      "\u001b[0;31mKeyError\u001b[0m: '省份'",
      "\nThe above exception was the direct cause of the following exception:\n",
      "\u001b[0;31mKeyError\u001b[0m                                  Traceback (most recent call last)",
      "\u001b[1;32m/Users/hu/Code/misc/CWY/柱状图数据/reorder.ipynb Cell 5\u001b[0m in \u001b[0;36m<cell line: 1>\u001b[0;34m()\u001b[0m\n\u001b[0;32m----> <a href='vscode-notebook-cell:/Users/hu/Code/misc/CWY/%E6%9F%B1%E7%8A%B6%E5%9B%BE%E6%95%B0%E6%8D%AE/reorder.ipynb#W3sZmlsZQ%3D%3D?line=0'>1</a>\u001b[0m df[\u001b[39m'\u001b[39;49m\u001b[39m省份\u001b[39;49m\u001b[39m'\u001b[39;49m][\u001b[39m0\u001b[39m]\n",
      "File \u001b[0;32m/opt/homebrew/Caskroom/miniforge/base/envs/plantcv/lib/python3.9/site-packages/pandas/core/frame.py:3505\u001b[0m, in \u001b[0;36mDataFrame.__getitem__\u001b[0;34m(self, key)\u001b[0m\n\u001b[1;32m   3503\u001b[0m \u001b[39mif\u001b[39;00m \u001b[39mself\u001b[39m\u001b[39m.\u001b[39mcolumns\u001b[39m.\u001b[39mnlevels \u001b[39m>\u001b[39m \u001b[39m1\u001b[39m:\n\u001b[1;32m   3504\u001b[0m     \u001b[39mreturn\u001b[39;00m \u001b[39mself\u001b[39m\u001b[39m.\u001b[39m_getitem_multilevel(key)\n\u001b[0;32m-> 3505\u001b[0m indexer \u001b[39m=\u001b[39m \u001b[39mself\u001b[39;49m\u001b[39m.\u001b[39;49mcolumns\u001b[39m.\u001b[39;49mget_loc(key)\n\u001b[1;32m   3506\u001b[0m \u001b[39mif\u001b[39;00m is_integer(indexer):\n\u001b[1;32m   3507\u001b[0m     indexer \u001b[39m=\u001b[39m [indexer]\n",
      "File \u001b[0;32m/opt/homebrew/Caskroom/miniforge/base/envs/plantcv/lib/python3.9/site-packages/pandas/core/indexes/base.py:3623\u001b[0m, in \u001b[0;36mIndex.get_loc\u001b[0;34m(self, key, method, tolerance)\u001b[0m\n\u001b[1;32m   3621\u001b[0m     \u001b[39mreturn\u001b[39;00m \u001b[39mself\u001b[39m\u001b[39m.\u001b[39m_engine\u001b[39m.\u001b[39mget_loc(casted_key)\n\u001b[1;32m   3622\u001b[0m \u001b[39mexcept\u001b[39;00m \u001b[39mKeyError\u001b[39;00m \u001b[39mas\u001b[39;00m err:\n\u001b[0;32m-> 3623\u001b[0m     \u001b[39mraise\u001b[39;00m \u001b[39mKeyError\u001b[39;00m(key) \u001b[39mfrom\u001b[39;00m \u001b[39merr\u001b[39;00m\n\u001b[1;32m   3624\u001b[0m \u001b[39mexcept\u001b[39;00m \u001b[39mTypeError\u001b[39;00m:\n\u001b[1;32m   3625\u001b[0m     \u001b[39m# If we have a listlike key, _check_indexing_error will raise\u001b[39;00m\n\u001b[1;32m   3626\u001b[0m     \u001b[39m#  InvalidIndexError. Otherwise we fall through and re-raise\u001b[39;00m\n\u001b[1;32m   3627\u001b[0m     \u001b[39m#  the TypeError.\u001b[39;00m\n\u001b[1;32m   3628\u001b[0m     \u001b[39mself\u001b[39m\u001b[39m.\u001b[39m_check_indexing_error(key)\n",
      "\u001b[0;31mKeyError\u001b[0m: '省份'"
     ]
    }
   ],
   "source": [
    "df['省份']"
   ]
  },
  {
   "cell_type": "code",
   "execution_count": 6,
   "metadata": {},
   "outputs": [],
   "source": [
    "new_df=pd.DataFrame()\n",
    "new_df['省']=p_order\n",
    "for col in p_order:\n",
    "    data=[]\n",
    "    for row in p_order:\n",
    "        data.append(df[col][row])\n",
    "    new_df[col]=data\n"
   ]
  },
  {
   "cell_type": "code",
   "execution_count": 48,
   "metadata": {},
   "outputs": [],
   "source": [
    "new_df.to_excel(f'./fig2_data/new_{file}.xlsx')"
   ]
  }
 ],
 "metadata": {
  "kernelspec": {
   "display_name": "Python 3.9.12 ('plantcv')",
   "language": "python",
   "name": "python3"
  },
  "language_info": {
   "codemirror_mode": {
    "name": "ipython",
    "version": 3
   },
   "file_extension": ".py",
   "mimetype": "text/x-python",
   "name": "python",
   "nbconvert_exporter": "python",
   "pygments_lexer": "ipython3",
   "version": "3.9.12"
  },
  "orig_nbformat": 4,
  "vscode": {
   "interpreter": {
    "hash": "3e8ff35eee59fe97d31dd0a42d8729b171ccaa4d99149318c4c5a9d7ef37df34"
   }
  }
 },
 "nbformat": 4,
 "nbformat_minor": 2
}
